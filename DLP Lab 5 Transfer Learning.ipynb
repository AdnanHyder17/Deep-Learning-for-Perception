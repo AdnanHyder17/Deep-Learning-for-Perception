{
 "cells": [
  {
   "cell_type": "markdown",
   "metadata": {},
   "source": [
    "# 🔹 Pascal VOC 2008 Classification Challenge\n",
    "\n",
    "## 📌 What is Pascal VOC 2008?\n",
    "Pascal VOC 2008 is a **computer vision dataset** that contains images labeled with **20 object categories**. \n",
    "It is used for **object classification, detection, and segmentation**. \n",
    "\n",
    "In this assignment, we focus on **image classification** using **transfer learning** with **pre-trained CNN models**.\n",
    "\n",
    "## 📌 Task: Multi-Label Classification\n",
    "- **Multi-label classification** means that **one image can contain multiple objects**.\n",
    "- Example:\n",
    "  - An image may have both a **dog** and a **car**.\n",
    "  - The label for that image would be **[dog=1, car=1, everything else=0]**.\n"
   ]
  },
  {
   "cell_type": "markdown",
   "metadata": {},
   "source": [
    "# 🔹 Step 2: Import Required Libraries\n",
    "## 📌 What Will We Do?\n",
    "- Import necessary **Python libraries** to work with images, XML files, and deep learning models.\n"
   ]
  },
  {
   "cell_type": "code",
   "execution_count": 2,
   "metadata": {},
   "outputs": [],
   "source": [
    "# Import standard Python libraries\n",
    "import os  # For working with files and directories\n",
    "import xml.etree.ElementTree as ET  # For reading XML annotation files\n",
    "import pandas as pd  # For handling structured data (tables)\n",
    "import numpy as np  # For numerical operations\n",
    "import tensorflow as tf  # For deep learning\n",
    "import cv2  # OpenCV for image processing\n",
    "from sklearn.model_selection import train_test_split  # To split data into training and validation sets\n",
    "import matplotlib.pyplot as plt  # For visualizing images"
   ]
  },
  {
   "cell_type": "markdown",
   "metadata": {},
   "source": [
    "# 🔹 Step 3: Define Dataset Paths\n",
    "## 📌 What Will We Do?\n",
    "- Define the paths to the **dataset directories** where images and annotations are stored.\n",
    "- Set up an output **CSV file** where we will store extracted information.\n"
   ]
  },
  {
   "cell_type": "code",
   "execution_count": 3,
   "metadata": {},
   "outputs": [],
   "source": [
    "# Define the main directory where Pascal VOC 2008 dataset is stored\n",
    "VOC_ROOT = r\"C:\\Users\\adnan\\Downloads\\VOCdevkit\\VOC2008\"\n",
    "\n",
    "# Important subdirectories in the Pascal VOC dataset\n",
    "ANNOTATIONS_DIR = os.path.join(VOC_ROOT, \"Annotations\")  # XML files containing object labels\n",
    "IMAGE_DIR = os.path.join(VOC_ROOT, \"JPEGImages\")  # Folder containing train/val images\n",
    "\n",
    "# Define the output CSV file where parsed annotations will be stored\n",
    "OUTPUT_CSV = \"DLP Lab 5 voc2008_labels.csv\"\n"
   ]
  },
  {
   "cell_type": "markdown",
   "metadata": {},
   "source": [
    "# 🔹 Step 4: Define Pascal VOC Object Classes\n",
    "## 📌 Why Do We Need This?\n",
    "- Pascal VOC stores **class names as text** (e.g., `\"dog\"`, `\"car\"`).\n",
    "- We **convert them into a list** to create a **multi-label vector**.\n"
   ]
  },
  {
   "cell_type": "code",
   "execution_count": 4,
   "metadata": {},
   "outputs": [],
   "source": [
    "# Pascal VOC 2008 has 20 object classes\n",
    "CLASSES = [\"aeroplane\", \"bicycle\", \"bird\", \"boat\", \"bottle\", \"bus\", \"car\", \"cat\",\n",
    "           \"chair\", \"cow\", \"diningtable\", \"dog\", \"horse\", \"motorbike\", \"person\",\n",
    "           \"pottedplant\", \"sheep\", \"sofa\", \"train\", \"tvmonitor\"]\n"
   ]
  },
  {
   "cell_type": "markdown",
   "metadata": {},
   "source": [
    "# 🔹 Step 5: Parse XML Annotations\n",
    "## 📌 What Will We Do?\n",
    "- Read **XML annotation files** to extract:\n",
    "  - **Image paths**\n",
    "  - **Object labels**\n",
    "  - **Convert labels into a multi-label format** (each image may have multiple objects).\n"
   ]
  },
  {
   "cell_type": "code",
   "execution_count": null,
   "metadata": {},
   "outputs": [],
   "source": [
    "def parse_annotation(xml_file):\n",
    "    \"\"\"\n",
    "    Reads an XML annotation file and extracts:\n",
    "    - Image path\n",
    "    - Multi-label class vector (20 classes)\n",
    "\n",
    "    Returns:\n",
    "        - A list containing [image_path, label_vector]\n",
    "    \"\"\"\n",
    "    # Load the XML file\n",
    "    tree = ET.parse(xml_file)\n",
    "    root = tree.getroot()\n",
    "\n",
    "    # Extract the image filename\n",
    "    image_filename = root.find(\"filename\").text\n",
    "    image_path = os.path.join(IMAGE_DIR, image_filename)  # Create full path\n",
    "\n",
    "    # Initialize label vector (all zeros initially)\n",
    "    labels = [0] * len(CLASSES)\n",
    "\n",
    "    # Read object class names and update label vector\n",
    "    for obj in root.findall(\"object\"):\n",
    "        class_name = obj.find(\"name\").text\n",
    "        if class_name in CLASSES:\n",
    "            labels[CLASSES.index(class_name)] = 1  # Mark object as present in image\n",
    "\n",
    "    return [image_path] + labels\n"
   ]
  },
  {
   "cell_type": "markdown",
   "metadata": {},
   "source": [
    "# 🔹 Step 6: Process All Annotations and Save to CSV\n",
    "## 📌 What Will We Do?\n",
    "- Loop through all **annotation files** in the dataset.\n",
    "- Convert **XML files into a structured table (CSV format)**.\n"
   ]
  },
  {
   "cell_type": "code",
   "execution_count": 6,
   "metadata": {},
   "outputs": [
    {
     "name": "stdout",
     "output_type": "stream",
     "text": [
      "✅ Pascal VOC dataset processed and saved to: DLP Lab 5 voc2008_labels.csv\n"
     ]
    }
   ],
   "source": [
    "# List to store processed data\n",
    "data = []\n",
    "\n",
    "# Loop through all XML files in the Annotations folder\n",
    "for xml_file in os.listdir(ANNOTATIONS_DIR):\n",
    "    if xml_file.endswith(\".xml\"):  # Ensure it's an XML file\n",
    "        xml_path = os.path.join(ANNOTATIONS_DIR, xml_file)\n",
    "        data.append(parse_annotation(xml_path))  # Process XML file\n",
    "\n",
    "# Convert data to a pandas DataFrame\n",
    "columns = [\"image_path\"] + CLASSES\n",
    "df = pd.DataFrame(data, columns=columns)\n",
    "\n",
    "# Save the DataFrame as a CSV file\n",
    "df.to_csv(OUTPUT_CSV, index=False)\n",
    "\n",
    "print(f\"✅ Pascal VOC dataset processed and saved to: {OUTPUT_CSV}\")\n"
   ]
  },
  {
   "cell_type": "markdown",
   "metadata": {},
   "source": [
    "# 🔹 Step 7: Verify the Output CSV\n",
    "## 📌 What Will We Do?\n",
    "- Load the CSV file to check if **image paths and labels are correct**.\n",
    "- Print the first few rows.\n"
   ]
  },
  {
   "cell_type": "code",
   "execution_count": 7,
   "metadata": {},
   "outputs": [
    {
     "name": "stdout",
     "output_type": "stream",
     "text": [
      "                                                              image_path  \\\n",
      "0  C:\\Users\\adnan\\Downloads\\VOCdevkit\\VOC2008\\JPEGImages\\2007_000027.jpg   \n",
      "1  C:\\Users\\adnan\\Downloads\\VOCdevkit\\VOC2008\\JPEGImages\\2007_000032.jpg   \n",
      "2  C:\\Users\\adnan\\Downloads\\VOCdevkit\\VOC2008\\JPEGImages\\2007_000033.jpg   \n",
      "3  C:\\Users\\adnan\\Downloads\\VOCdevkit\\VOC2008\\JPEGImages\\2007_000039.jpg   \n",
      "4  C:\\Users\\adnan\\Downloads\\VOCdevkit\\VOC2008\\JPEGImages\\2007_000042.jpg   \n",
      "\n",
      "   aeroplane  bicycle  bird  boat  bottle  bus  car  cat  chair  ...  \\\n",
      "0          0        0     0     0       0    0    0    0      0  ...   \n",
      "1          1        0     0     0       0    0    0    0      0  ...   \n",
      "2          1        0     0     0       0    0    0    0      0  ...   \n",
      "3          0        0     0     0       0    0    0    0      0  ...   \n",
      "4          0        0     0     0       0    0    0    0      0  ...   \n",
      "\n",
      "   diningtable  dog  horse  motorbike  person  pottedplant  sheep  sofa  \\\n",
      "0            0    0      0          0       1            0      0     0   \n",
      "1            0    0      0          0       1            0      0     0   \n",
      "2            0    0      0          0       0            0      0     0   \n",
      "3            0    0      0          0       0            0      0     0   \n",
      "4            0    0      0          0       0            0      0     0   \n",
      "\n",
      "   train  tvmonitor  \n",
      "0      0          0  \n",
      "1      0          0  \n",
      "2      0          0  \n",
      "3      0          1  \n",
      "4      1          0  \n",
      "\n",
      "[5 rows x 21 columns]\n"
     ]
    }
   ],
   "source": [
    "# Load and display the first few rows of the dataset\n",
    "df = pd.read_csv(OUTPUT_CSV)\n",
    "pd.set_option(\"display.max_colwidth\", None)\n",
    "print(df.head())\n"
   ]
  },
  {
   "cell_type": "code",
   "execution_count": 39,
   "metadata": {},
   "outputs": [
    {
     "name": "stdout",
     "output_type": "stream",
     "text": [
      "\n",
      "🔹 Class Distribution in Training Data:\n",
      "person         2530\n",
      "car             549\n",
      "chair           498\n",
      "dog             433\n",
      "cat             372\n",
      "bird            348\n",
      "bottle          320\n",
      "aeroplane       281\n",
      "tvmonitor       272\n",
      "sofa            264\n",
      "motorbike       250\n",
      "boat            247\n",
      "pottedplant     245\n",
      "diningtable     242\n",
      "horse           242\n",
      "bicycle         234\n",
      "train           191\n",
      "bus             142\n",
      "cow             108\n",
      "sheep            96\n",
      "dtype: int64\n"
     ]
    }
   ],
   "source": [
    "class_counts = df.iloc[:, 1:].sum().sort_values(ascending=False)\n",
    "print(\"\\n🔹 Class Distribution in Training Data:\")\n",
    "print(class_counts)"
   ]
  },
  {
   "cell_type": "markdown",
   "metadata": {},
   "source": [
    "# 🔹 Step 8: Load Pascal VOC Dataset into TensorFlow\n",
    "## 📌 What We Will Do?\n",
    "- ✅ Read the CSV file and extract image paths & labels.\n",
    "- ✅ Preprocess images (resize to 224x224, normalize pixel values).\n",
    "- ✅ Split the dataset into training (80%) and validation (20%).\n",
    "- ✅ Prepare a tf.data.Dataset pipeline for efficient training."
   ]
  },
  {
   "cell_type": "markdown",
   "metadata": {},
   "source": [
    "## 🔹 Step 8.1: Read CSV and Split Data\n",
    "### 📌 What Will We Do?\n",
    "- Load the **image paths and labels** from the CSV file.\n",
    "- Split the dataset into **80% training** and **20% validation** sets.\n",
    "### 📌 Why This Step?\n",
    "- We use train_test_split() from sklearn to split the dataset.\n",
    "- This ensures the model has enough data to learn while keeping some data for evaluation.\n"
   ]
  },
  {
   "cell_type": "code",
   "execution_count": 8,
   "metadata": {},
   "outputs": [
    {
     "name": "stdout",
     "output_type": "stream",
     "text": [
      "✅ Training samples: 4076, Validation samples: 1020\n"
     ]
    }
   ],
   "source": [
    "# Load the dataset from CSV\n",
    "df = pd.read_csv(OUTPUT_CSV)\n",
    "\n",
    "# Extract image paths and labels\n",
    "image_paths = df[\"image_path\"].values  # Image file paths\n",
    "labels = df.iloc[:, 1:].values  # All columns except the first one (image path)\n",
    "\n",
    "# Split data into 80% training and 20% validation\n",
    "train_paths, val_paths, train_labels, val_labels = train_test_split(\n",
    "    image_paths, labels, test_size=0.2, random_state=42\n",
    ")\n",
    "\n",
    "# Print dataset sizes\n",
    "print(f\"✅ Training samples: {len(train_paths)}, Validation samples: {len(val_paths)}\")\n"
   ]
  },
  {
   "cell_type": "markdown",
   "metadata": {},
   "source": [
    "## 🔹 Step 8.2: Image Preprocessing Function\n",
    "### 📌 What Will We Do?\n",
    "- Load images from file paths.\n",
    "- Resize them to **224x224 pixels** (to match pre-trained CNN models).\n",
    "- Normalize pixel values to **range [0,1]**.\n",
    "### 📌 Why This Step?\n",
    "- Resizing ensures all images have the same dimensions (224x224).\n",
    "- Normalization (image/255.0) scales pixel values between 0 and 1, making training stable.\n",
    "- Decoding JPEG images converts them into tensors for TensorFlow."
   ]
  },
  {
   "cell_type": "code",
   "execution_count": 9,
   "metadata": {},
   "outputs": [],
   "source": [
    "# Define image size and batch size\n",
    "IMG_SIZE = (224, 224)  # Standard size for ResNet, VGG, EfficientNet\n",
    "BATCH_SIZE = 32  # Number of images per training batch\n",
    "\n",
    "# Function to load and preprocess images\n",
    "def load_and_preprocess(image_path, label):\n",
    "    \"\"\"\n",
    "    Loads an image from file, resizes it, and normalizes pixel values.\n",
    "\n",
    "    Args:\n",
    "        image_path (string): Path to the image file.\n",
    "        label (list): Multi-label vector (0s and 1s for 20 classes).\n",
    "\n",
    "    Returns:\n",
    "        image (tensor): Preprocessed image.\n",
    "        label (tensor): Corresponding label vector.\n",
    "    \"\"\"\n",
    "    # Read the image file\n",
    "    image = tf.io.read_file(image_path)\n",
    "    image = tf.image.decode_jpeg(image, channels=3)  # Decode JPEG image\n",
    "    image = tf.image.resize(image, IMG_SIZE)  # Resize to 224x224\n",
    "    image = image / 255.0  # Normalize pixel values to [0,1]\n",
    "\n",
    "    return image, label\n"
   ]
  },
  {
   "cell_type": "markdown",
   "metadata": {},
   "source": [
    "## 🔹 Step 8.3: Create a TensorFlow Dataset\n",
    "### 📌 What Will We Do?\n",
    "- Convert **NumPy arrays** into **TensorFlow datasets**.\n",
    "- Apply **preprocessing** using `map()`.\n",
    "- Shuffle, batch, and prefetch the dataset for **efficient training**.\n",
    "### 📌 Why This Step?\n",
    "- tf.data.Dataset.from_tensor_slices() → Converts image paths & labels into a TensorFlow dataset.\n",
    "- map(load_and_preprocess) → Applies the preprocessing function to every image.\n",
    "- shuffle(1000) → Randomizes image order to prevent overfitting.\n",
    "- batch(BATCH_SIZE) → Groups images into mini-batches (default: 32).\n",
    "- prefetch(tf.data.AUTOTUNE) → Loads the next batch while training for efficiency\n"
   ]
  },
  {
   "cell_type": "code",
   "execution_count": 10,
   "metadata": {},
   "outputs": [
    {
     "name": "stdout",
     "output_type": "stream",
     "text": [
      "✅ TensorFlow dataset is ready!\n"
     ]
    }
   ],
   "source": [
    "# Function to create a tf.data dataset\n",
    "def create_tf_dataset(image_paths, labels):\n",
    "    \"\"\"\n",
    "    Creates a TensorFlow dataset pipeline for training.\n",
    "\n",
    "    Args:\n",
    "        image_paths (list): List of image file paths.\n",
    "        labels (list): Corresponding multi-label vectors.\n",
    "\n",
    "    Returns:\n",
    "        dataset (tf.data.Dataset): Preprocessed dataset ready for training.\n",
    "    \"\"\"\n",
    "    # Convert to TensorFlow dataset\n",
    "    dataset = tf.data.Dataset.from_tensor_slices((image_paths, labels))\n",
    "\n",
    "    # Apply image preprocessing\n",
    "    dataset = dataset.map(load_and_preprocess)\n",
    "\n",
    "    # Shuffle, batch, and prefetch for efficiency\n",
    "    dataset = dataset.shuffle(1000).batch(BATCH_SIZE).prefetch(tf.data.AUTOTUNE)\n",
    "\n",
    "    return dataset\n",
    "\n",
    "# Create training and validation datasets\n",
    "train_dataset = create_tf_dataset(train_paths, train_labels)\n",
    "val_dataset = create_tf_dataset(val_paths, val_labels)\n",
    "\n",
    "print(\"✅ TensorFlow dataset is ready!\")\n"
   ]
  },
  {
   "cell_type": "markdown",
   "metadata": {},
   "source": [
    "## 🔹 Step 8.4: Check One Batch\n",
    "### 📌 What Will We Do?\n",
    "- Print the shape of one batch of images and labels.\n",
    "- This ensures that **images and labels are correctly processed**.\n",
    "\n",
    "- (32, 224, 224, 3) → 32 images, each 224x224, with 3 color channels (RGB).\n",
    "- (32, 20) → 32 label vectors, each containing 20 class values (0s and 1s).\n",
    "- ✅ Dataset is correctly formatted and ready for training!\n"
   ]
  },
  {
   "cell_type": "code",
   "execution_count": 11,
   "metadata": {},
   "outputs": [
    {
     "name": "stdout",
     "output_type": "stream",
     "text": [
      "\n",
      "🔹 Batch shape: (32, 224, 224, 3), Label shape: (32, 20)\n"
     ]
    }
   ],
   "source": [
    "# Fetch one batch from the training dataset\n",
    "for images, labels in train_dataset.take(1):\n",
    "    print(f\"\\n🔹 Batch shape: {images.shape}, Label shape: {labels.shape}\")\n"
   ]
  },
  {
   "cell_type": "markdown",
   "metadata": {},
   "source": [
    "# 🔹 Step 9: Define CNN Models Using Transfer Learning\n",
    "## 📌 What We Will Do?\n",
    "- ✅ Choose three famous CNN architectures:\n",
    "\n",
    "- ResNet-50 (Powerful, deep network with skip connections)\n",
    "- VGG-16 (Simple, traditional CNN with deep layers)\n",
    "- EfficientNet-B0 (Optimized for accuracy and efficiency)\n",
    "- ✅ Use pre-trained weights from ImageNet.\n",
    "- ✅ Freeze base model layers to retain learned features.\n",
    "- ✅ Add a custom classification head for multi-label classification."
   ]
  },
  {
   "cell_type": "markdown",
   "metadata": {},
   "source": [
    "## 🔹 Step 9.1: Load TensorFlow/Keras Modules\n",
    "### 📌 What Will We Do?\n",
    "- Import Keras modules for **building CNN models**.\n",
    "- Load pre-trained CNN architectures from **Keras Applications**.\n"
   ]
  },
  {
   "cell_type": "code",
   "execution_count": 12,
   "metadata": {},
   "outputs": [],
   "source": [
    "from tensorflow import keras\n",
    "from tensorflow.keras import layers, applications\n"
   ]
  },
  {
   "cell_type": "markdown",
   "metadata": {},
   "source": [
    "## 🔹 Step 9.2: Define Function to Create CNN Models\n",
    "### 📌 What Will We Do?\n",
    "- Create a function that loads **ResNet-50, VGG-16, or EfficientNet-B0**.\n",
    "- Use **transfer learning** (pre-trained weights from ImageNet).\n",
    "- Freeze base model layers to retain pre-trained features.\n",
    "- Add a **new classification head** for Pascal VOC 2008 (20 object categories).\n",
    "### 📌 Why This Step?\n",
    "- Uses pre-trained models → Leverages existing knowledge from ImageNet.\n",
    "- Freezes base model layers → Prevents losing learned features.\n",
    "- Adds a classification head → Adapts model for Pascal VOC 2008 multi-label classification.\n",
    "- Uses sigmoid activation → Outputs probabilities for each of the 20 object categories.\n",
    "- Uses binary_crossentropy loss → Works best for multi-label classification.\n"
   ]
  },
  {
   "cell_type": "code",
   "execution_count": 13,
   "metadata": {},
   "outputs": [],
   "source": [
    "# Define the number of classes (Pascal VOC 2008 has 20 classes)\n",
    "NUM_CLASSES = 20\n",
    "IMG_SIZE = (224, 224, 3)  # Image dimensions\n",
    "\n",
    "# Function to create a CNN model with transfer learning\n",
    "def create_model(model_name=\"ResNet50\"):\n",
    "    \"\"\"\n",
    "    Creates a CNN model using transfer learning.\n",
    "\n",
    "    Args:\n",
    "        model_name (str): Name of the CNN architecture to use.\n",
    "                          Options: \"ResNet50\", \"VGG16\", \"EfficientNetB0\"\n",
    "\n",
    "    Returns:\n",
    "        model (keras.Model): Compiled CNN model ready for training.\n",
    "    \"\"\"\n",
    "    # Load the selected base model (pre-trained on ImageNet)\n",
    "    if model_name == \"ResNet50\":\n",
    "        base_model = applications.ResNet50(weights=\"imagenet\", include_top=False, input_shape=IMG_SIZE)\n",
    "    elif model_name == \"VGG16\":\n",
    "        base_model = applications.VGG16(weights=\"imagenet\", include_top=False, input_shape=IMG_SIZE)\n",
    "    elif model_name == \"EfficientNetB0\":\n",
    "        base_model = applications.EfficientNetB0(weights=\"imagenet\", include_top=False, input_shape=IMG_SIZE)\n",
    "    else:\n",
    "        raise ValueError(\"Invalid model name! Choose from ResNet50, VGG16, EfficientNetB0\")\n",
    "\n",
    "    # Freeze base model layers (to retain pre-trained features)\n",
    "    base_model.trainable = False\n",
    "\n",
    "    # Build the new classification head\n",
    "    x = layers.GlobalAveragePooling2D()(base_model.output)  # Convert feature maps to a vector\n",
    "    x = layers.Dense(512, activation=\"relu\")(x)  # Fully connected layer\n",
    "    x = layers.Dropout(0.5)(x)  # Dropout for regularization\n",
    "    output_layer = layers.Dense(NUM_CLASSES, activation=\"sigmoid\")(x)  # Multi-label classification\n",
    "\n",
    "    # Create the final model\n",
    "    model = keras.Model(inputs=base_model.input, outputs=output_layer)\n",
    "\n",
    "    # Compile the model\n",
    "    model.compile(\n",
    "        optimizer=keras.optimizers.Adam(learning_rate=0.0001),\n",
    "        loss=\"binary_crossentropy\",  # Multi-label classification loss\n",
    "        metrics=[\"accuracy\"]\n",
    "    )\n",
    "\n",
    "    return model\n"
   ]
  },
  {
   "cell_type": "markdown",
   "metadata": {},
   "source": [
    "## 🔹 Step 9.3: Create All Three Models\n",
    "### 📌 What Will We Do?\n",
    "- Initialize **ResNet-50, VGG-16, and EfficientNet-B0**.\n",
    "- Print their **architecture summaries** to check layer structure.\n",
    "### 📌 Why This Step?\n",
    "- Prints model architectures to verify the number of layers and parameters.\n",
    "- Confirms that base models are frozen (only new layers are trainable).\n"
   ]
  },
  {
   "cell_type": "code",
   "execution_count": 7,
   "metadata": {},
   "outputs": [
    {
     "ename": "NameError",
     "evalue": "name 'create_model' is not defined",
     "output_type": "error",
     "traceback": [
      "\u001b[1;31m---------------------------------------------------------------------------\u001b[0m",
      "\u001b[1;31mNameError\u001b[0m                                 Traceback (most recent call last)",
      "Cell \u001b[1;32mIn[7], line 2\u001b[0m\n\u001b[0;32m      1\u001b[0m \u001b[38;5;66;03m# Create models\u001b[39;00m\n\u001b[1;32m----> 2\u001b[0m resnet_model \u001b[38;5;241m=\u001b[39m \u001b[43mcreate_model\u001b[49m(\u001b[38;5;124m\"\u001b[39m\u001b[38;5;124mResNet50\u001b[39m\u001b[38;5;124m\"\u001b[39m)\n\u001b[0;32m      3\u001b[0m vgg_model \u001b[38;5;241m=\u001b[39m create_model(\u001b[38;5;124m\"\u001b[39m\u001b[38;5;124mVGG16\u001b[39m\u001b[38;5;124m\"\u001b[39m)\n\u001b[0;32m      4\u001b[0m efficientnet_model \u001b[38;5;241m=\u001b[39m create_model(\u001b[38;5;124m\"\u001b[39m\u001b[38;5;124mEfficientNetB0\u001b[39m\u001b[38;5;124m\"\u001b[39m)\n",
      "\u001b[1;31mNameError\u001b[0m: name 'create_model' is not defined"
     ]
    }
   ],
   "source": [
    "# Create models\n",
    "resnet_model = create_model(\"ResNet50\")\n",
    "vgg_model = create_model(\"VGG16\")\n",
    "efficientnet_model = create_model(\"EfficientNetB0\")\n",
    "\n",
    "# Print model summaries\n",
    "print(\"\\n🔹 ResNet-50 Model Summary:\")\n",
    "#resnet_model.summary()\n",
    "\n",
    "print(\"\\n🔹 VGG-16 Model Summary:\")\n",
    "vgg_model.summary()\n",
    "\n",
    "print(\"\\n🔹 EfficientNet-B0 Model Summary:\")\n",
    "#efficientnet_model.summary()\n"
   ]
  },
  {
   "cell_type": "markdown",
   "metadata": {},
   "source": [
    "## 🔹 Step 9.4: Compare Model Architectures\n",
    "### 📌 What Will We Do?\n",
    "- Compare **the number of parameters and depth** of each model.\n",
    "- Understand which model is **best for speed vs. accuracy**.\n",
    "### 📌 Key Takeaways:\n",
    "- ResNet-50 → Best for accuracy but slower (23M parameters).\n",
    "- VGG-16 → Easiest to understand, moderate speed (14M parameters).\n",
    "- EfficientNet-B0 → Best for speed, small but powerful (4M parameters).\n"
   ]
  },
  {
   "cell_type": "code",
   "execution_count": 19,
   "metadata": {},
   "outputs": [
    {
     "name": "stdout",
     "output_type": "stream",
     "text": [
      "\n",
      "🔹 Model Parameter Comparison:\n",
      "ResNet-50: 24,647,060 parameters\n",
      "VGG-16: 14,987,604 parameters\n",
      "EfficientNet-B0: 4,715,703 parameters\n"
     ]
    }
   ],
   "source": [
    "# Function to compare model sizes\n",
    "def compare_model_sizes():\n",
    "    models = {\n",
    "        \"ResNet-50\": resnet_model,\n",
    "        \"VGG-16\": vgg_model,\n",
    "        \"EfficientNet-B0\": efficientnet_model\n",
    "    }\n",
    "    \n",
    "    print(\"\\n🔹 Model Parameter Comparison:\")\n",
    "    for name, model in models.items():\n",
    "        print(f\"{name}: {model.count_params():,} parameters\")\n",
    "\n",
    "# Run model comparison\n",
    "compare_model_sizes()\n"
   ]
  },
  {
   "cell_type": "markdown",
   "metadata": {},
   "source": [
    "# 🔹 Step 10: Train the CNN Models on Pascal VOC 2008\n",
    "## 📌 What We Will Do?\n",
    "- ✅ Train all three models (ResNet-50, VGG-16, EfficientNet-B0) on Pascal VOC 2008.\n",
    "- ✅ Use binary_crossentropy loss for multi-label classification.\n",
    "- ✅ Monitor training progress with accuracy and loss curves.\n",
    "- ✅ Implement early stopping and learning rate reduction to improve training.\n",
    "- ✅ Compare training time, accuracy, and loss across models."
   ]
  },
  {
   "cell_type": "markdown",
   "metadata": {},
   "source": [
    "## 🔹 Step 10.1: Load Required Modules for Training\n",
    "### 📌 What Will We Do?\n",
    "- Import **Keras callbacks** for monitoring training.\n",
    "- Set up **early stopping** to prevent overfitting.\n",
    "- Implement **learning rate reduction** for better convergence.\n"
   ]
  },
  {
   "cell_type": "code",
   "execution_count": 12,
   "metadata": {},
   "outputs": [],
   "source": [
    "import time  # For measuring training time\n",
    "from tensorflow.keras.callbacks import EarlyStopping, ReduceLROnPlateau, ModelCheckpoint, TensorBoard\n"
   ]
  },
  {
   "cell_type": "markdown",
   "metadata": {},
   "source": [
    "## 🔹 Step 10.2: Define the Training Function\n",
    "### 📌 What Will We Do?\n",
    "- Train the model with **early stopping** (stops if no improvement).\n",
    "- Use **learning rate reduction** when validation loss plateaus.\n",
    "- Save the **best model** using `ModelCheckpoint`.\n",
    "- Log training details with **TensorBoard**.\n",
    "## 📌 Why This Step?\n",
    "- Early Stopping (patience=3) → Stops training if validation loss does not improve for 3 consecutive epochs.\n",
    "- ReduceLROnPlateau (factor=0.2) → Reduces learning rate when loss stops decreasing.\n",
    "- ModelCheckpoint → Saves the best model weights for later evaluation.\n",
    "- TensorBoard → Logs training details for visualization.\n"
   ]
  },
  {
   "cell_type": "code",
   "execution_count": 21,
   "metadata": {},
   "outputs": [],
   "source": [
    "# Define training parameters\n",
    "EPOCHS = 10  # Number of epochs to train\n",
    "BATCH_SIZE = 32  # Batch size for training\n",
    "\n",
    "# Function to train a CNN model\n",
    "def train_model(model, train_dataset, val_dataset, model_name):\n",
    "    \"\"\"\n",
    "    Trains a CNN model with early stopping and learning rate scheduling.\n",
    "\n",
    "    Args:\n",
    "        model (keras.Model): The CNN model to train.\n",
    "        train_dataset (tf.data.Dataset): Training dataset.\n",
    "        val_dataset (tf.data.Dataset): Validation dataset.\n",
    "        model_name (str): Name of the model (for saving checkpoints/logging).\n",
    "\n",
    "    Returns:\n",
    "        history (keras.callbacks.History): Training history object.\n",
    "        total_time (float): Time taken for training (in seconds).\n",
    "    \"\"\"\n",
    "    print(f\"\\n🔹 Training {model_name}...\\n\")\n",
    "\n",
    "    # Define training callbacks\n",
    "    callbacks = [\n",
    "        EarlyStopping(monitor=\"val_loss\", patience=3, restore_best_weights=True),\n",
    "        ReduceLROnPlateau(monitor=\"val_loss\", factor=0.2, patience=2, min_lr=1e-6),\n",
    "        ModelCheckpoint(f\"DLP Lab 5 {model_name}_best.keras\", save_best_only=True, monitor=\"val_loss\"),\n",
    "        TensorBoard(log_dir=f\"logs/{model_name}\")\n",
    "    ]\n",
    "\n",
    "    # Start training timer\n",
    "    start_time = time.time()\n",
    "\n",
    "    # Train the model\n",
    "    history = model.fit(\n",
    "        train_dataset,\n",
    "        validation_data=val_dataset,\n",
    "        epochs=EPOCHS,\n",
    "        callbacks=callbacks\n",
    "    )\n",
    "\n",
    "    # Compute total training time\n",
    "    total_time = time.time() - start_time\n",
    "    print(f\"\\n✅ {model_name} Training Completed in {total_time:.2f} seconds!\")\n",
    "\n",
    "    return history, total_time\n"
   ]
  },
  {
   "cell_type": "markdown",
   "metadata": {},
   "source": [
    "## 🔹 Step 10.3: Train All Three Models\n",
    "### 📌 What Will We Do?\n",
    "- Train **ResNet-50, VGG-16, and EfficientNet-B0**.\n",
    "- Store their training history for comparison.\n",
    "### 📌 Why This Step?\n",
    "- We train all three models and measure their training time.\n",
    "- This allows us to compare performance across models.\n"
   ]
  },
  {
   "cell_type": "code",
   "execution_count": 22,
   "metadata": {},
   "outputs": [
    {
     "name": "stdout",
     "output_type": "stream",
     "text": [
      "\n",
      "🔹 Training ResNet50...\n",
      "\n",
      "Epoch 1/10\n",
      "\u001b[1m128/128\u001b[0m \u001b[32m━━━━━━━━━━━━━━━━━━━━\u001b[0m\u001b[37m\u001b[0m \u001b[1m155s\u001b[0m 1s/step - accuracy: 0.2024 - loss: 0.2475 - val_accuracy: 0.2245 - val_loss: 0.2257 - learning_rate: 1.0000e-04\n",
      "Epoch 2/10\n",
      "\u001b[1m128/128\u001b[0m \u001b[32m━━━━━━━━━━━━━━━━━━━━\u001b[0m\u001b[37m\u001b[0m \u001b[1m195s\u001b[0m 2s/step - accuracy: 0.2076 - loss: 0.2455 - val_accuracy: 0.2245 - val_loss: 0.2245 - learning_rate: 1.0000e-04\n",
      "Epoch 3/10\n",
      "\u001b[1m128/128\u001b[0m \u001b[32m━━━━━━━━━━━━━━━━━━━━\u001b[0m\u001b[37m\u001b[0m \u001b[1m154s\u001b[0m 1s/step - accuracy: 0.2061 - loss: 0.2422 - val_accuracy: 0.2245 - val_loss: 0.2235 - learning_rate: 1.0000e-04\n",
      "Epoch 4/10\n",
      "\u001b[1m128/128\u001b[0m \u001b[32m━━━━━━━━━━━━━━━━━━━━\u001b[0m\u001b[37m\u001b[0m \u001b[1m153s\u001b[0m 1s/step - accuracy: 0.1986 - loss: 0.2412 - val_accuracy: 0.2245 - val_loss: 0.2228 - learning_rate: 1.0000e-04\n",
      "Epoch 5/10\n",
      "\u001b[1m128/128\u001b[0m \u001b[32m━━━━━━━━━━━━━━━━━━━━\u001b[0m\u001b[37m\u001b[0m \u001b[1m153s\u001b[0m 1s/step - accuracy: 0.2181 - loss: 0.2364 - val_accuracy: 0.2245 - val_loss: 0.2221 - learning_rate: 1.0000e-04\n",
      "Epoch 6/10\n",
      "\u001b[1m128/128\u001b[0m \u001b[32m━━━━━━━━━━━━━━━━━━━━\u001b[0m\u001b[37m\u001b[0m \u001b[1m152s\u001b[0m 1s/step - accuracy: 0.2151 - loss: 0.2358 - val_accuracy: 0.2245 - val_loss: 0.2213 - learning_rate: 1.0000e-04\n",
      "Epoch 7/10\n",
      "\u001b[1m128/128\u001b[0m \u001b[32m━━━━━━━━━━━━━━━━━━━━\u001b[0m\u001b[37m\u001b[0m \u001b[1m153s\u001b[0m 1s/step - accuracy: 0.2074 - loss: 0.2366 - val_accuracy: 0.2245 - val_loss: 0.2208 - learning_rate: 1.0000e-04\n",
      "Epoch 8/10\n",
      "\u001b[1m128/128\u001b[0m \u001b[32m━━━━━━━━━━━━━━━━━━━━\u001b[0m\u001b[37m\u001b[0m \u001b[1m153s\u001b[0m 1s/step - accuracy: 0.2136 - loss: 0.2345 - val_accuracy: 0.2245 - val_loss: 0.2201 - learning_rate: 1.0000e-04\n",
      "Epoch 9/10\n",
      "\u001b[1m128/128\u001b[0m \u001b[32m━━━━━━━━━━━━━━━━━━━━\u001b[0m\u001b[37m\u001b[0m \u001b[1m153s\u001b[0m 1s/step - accuracy: 0.2165 - loss: 0.2324 - val_accuracy: 0.2245 - val_loss: 0.2194 - learning_rate: 1.0000e-04\n",
      "Epoch 10/10\n",
      "\u001b[1m128/128\u001b[0m \u001b[32m━━━━━━━━━━━━━━━━━━━━\u001b[0m\u001b[37m\u001b[0m \u001b[1m154s\u001b[0m 1s/step - accuracy: 0.2050 - loss: 0.2321 - val_accuracy: 0.2245 - val_loss: 0.2192 - learning_rate: 1.0000e-04\n",
      "\n",
      "✅ ResNet50 Training Completed in 1574.37 seconds!\n",
      "\n",
      "🔹 Training VGG16...\n",
      "\n",
      "Epoch 1/10\n",
      "\u001b[1m128/128\u001b[0m \u001b[32m━━━━━━━━━━━━━━━━━━━━\u001b[0m\u001b[37m\u001b[0m \u001b[1m362s\u001b[0m 3s/step - accuracy: 0.1295 - loss: 0.5168 - val_accuracy: 0.2245 - val_loss: 0.2280 - learning_rate: 1.0000e-04\n",
      "Epoch 2/10\n",
      "\u001b[1m128/128\u001b[0m \u001b[32m━━━━━━━━━━━━━━━━━━━━\u001b[0m\u001b[37m\u001b[0m \u001b[1m360s\u001b[0m 3s/step - accuracy: 0.1962 - loss: 0.2468 - val_accuracy: 0.2245 - val_loss: 0.2186 - learning_rate: 1.0000e-04\n",
      "Epoch 3/10\n",
      "\u001b[1m128/128\u001b[0m \u001b[32m━━━━━━━━━━━━━━━━━━━━\u001b[0m\u001b[37m\u001b[0m \u001b[1m361s\u001b[0m 3s/step - accuracy: 0.2059 - loss: 0.2351 - val_accuracy: 0.2245 - val_loss: 0.2111 - learning_rate: 1.0000e-04\n",
      "Epoch 4/10\n",
      "\u001b[1m128/128\u001b[0m \u001b[32m━━━━━━━━━━━━━━━━━━━━\u001b[0m\u001b[37m\u001b[0m \u001b[1m360s\u001b[0m 3s/step - accuracy: 0.2189 - loss: 0.2268 - val_accuracy: 0.2245 - val_loss: 0.2047 - learning_rate: 1.0000e-04\n",
      "Epoch 5/10\n",
      "\u001b[1m128/128\u001b[0m \u001b[32m━━━━━━━━━━━━━━━━━━━━\u001b[0m\u001b[37m\u001b[0m \u001b[1m361s\u001b[0m 3s/step - accuracy: 0.2246 - loss: 0.2197 - val_accuracy: 0.2314 - val_loss: 0.1988 - learning_rate: 1.0000e-04\n",
      "Epoch 6/10\n",
      "\u001b[1m128/128\u001b[0m \u001b[32m━━━━━━━━━━━━━━━━━━━━\u001b[0m\u001b[37m\u001b[0m \u001b[1m359s\u001b[0m 3s/step - accuracy: 0.2583 - loss: 0.2086 - val_accuracy: 0.2451 - val_loss: 0.1935 - learning_rate: 1.0000e-04\n",
      "Epoch 7/10\n",
      "\u001b[1m128/128\u001b[0m \u001b[32m━━━━━━━━━━━━━━━━━━━━\u001b[0m\u001b[37m\u001b[0m \u001b[1m360s\u001b[0m 3s/step - accuracy: 0.2402 - loss: 0.2077 - val_accuracy: 0.2833 - val_loss: 0.1890 - learning_rate: 1.0000e-04\n",
      "Epoch 8/10\n",
      "\u001b[1m128/128\u001b[0m \u001b[32m━━━━━━━━━━━━━━━━━━━━\u001b[0m\u001b[37m\u001b[0m \u001b[1m360s\u001b[0m 3s/step - accuracy: 0.2696 - loss: 0.2009 - val_accuracy: 0.2922 - val_loss: 0.1849 - learning_rate: 1.0000e-04\n",
      "Epoch 9/10\n",
      "\u001b[1m128/128\u001b[0m \u001b[32m━━━━━━━━━━━━━━━━━━━━\u001b[0m\u001b[37m\u001b[0m \u001b[1m361s\u001b[0m 3s/step - accuracy: 0.2745 - loss: 0.1961 - val_accuracy: 0.3118 - val_loss: 0.1813 - learning_rate: 1.0000e-04\n",
      "Epoch 10/10\n",
      "\u001b[1m128/128\u001b[0m \u001b[32m━━━━━━━━━━━━━━━━━━━━\u001b[0m\u001b[37m\u001b[0m \u001b[1m359s\u001b[0m 3s/step - accuracy: 0.3032 - loss: 0.1921 - val_accuracy: 0.3167 - val_loss: 0.1783 - learning_rate: 1.0000e-04\n",
      "\n",
      "✅ VGG16 Training Completed in 3603.22 seconds!\n",
      "\n",
      "🔹 Training EfficientNetB0...\n",
      "\n",
      "Epoch 1/10\n",
      "\u001b[1m128/128\u001b[0m \u001b[32m━━━━━━━━━━━━━━━━━━━━\u001b[0m\u001b[37m\u001b[0m \u001b[1m81s\u001b[0m 584ms/step - accuracy: 0.1325 - loss: 0.4154 - val_accuracy: 0.2245 - val_loss: 0.2299 - learning_rate: 1.0000e-04\n",
      "Epoch 2/10\n",
      "\u001b[1m128/128\u001b[0m \u001b[32m━━━━━━━━━━━━━━━━━━━━\u001b[0m\u001b[37m\u001b[0m \u001b[1m73s\u001b[0m 571ms/step - accuracy: 0.2070 - loss: 0.2515 - val_accuracy: 0.2245 - val_loss: 0.2297 - learning_rate: 1.0000e-04\n",
      "Epoch 3/10\n",
      "\u001b[1m128/128\u001b[0m \u001b[32m━━━━━━━━━━━━━━━━━━━━\u001b[0m\u001b[37m\u001b[0m \u001b[1m73s\u001b[0m 572ms/step - accuracy: 0.1985 - loss: 0.2497 - val_accuracy: 0.2245 - val_loss: 0.2296 - learning_rate: 1.0000e-04\n",
      "Epoch 4/10\n",
      "\u001b[1m128/128\u001b[0m \u001b[32m━━━━━━━━━━━━━━━━━━━━\u001b[0m\u001b[37m\u001b[0m \u001b[1m73s\u001b[0m 572ms/step - accuracy: 0.2049 - loss: 0.2445 - val_accuracy: 0.2245 - val_loss: 0.2301 - learning_rate: 1.0000e-04\n",
      "Epoch 5/10\n",
      "\u001b[1m128/128\u001b[0m \u001b[32m━━━━━━━━━━━━━━━━━━━━\u001b[0m\u001b[37m\u001b[0m \u001b[1m73s\u001b[0m 568ms/step - accuracy: 0.2098 - loss: 0.2440 - val_accuracy: 0.2245 - val_loss: 0.2296 - learning_rate: 2.0000e-05\n",
      "Epoch 6/10\n",
      "\u001b[1m128/128\u001b[0m \u001b[32m━━━━━━━━━━━━━━━━━━━━\u001b[0m\u001b[37m\u001b[0m \u001b[1m73s\u001b[0m 571ms/step - accuracy: 0.2103 - loss: 0.2427 - val_accuracy: 0.2245 - val_loss: 0.2296 - learning_rate: 2.0000e-05\n",
      "Epoch 7/10\n",
      "\u001b[1m128/128\u001b[0m \u001b[32m━━━━━━━━━━━━━━━━━━━━\u001b[0m\u001b[37m\u001b[0m \u001b[1m73s\u001b[0m 570ms/step - accuracy: 0.2158 - loss: 0.2435 - val_accuracy: 0.2245 - val_loss: 0.2296 - learning_rate: 2.0000e-05\n",
      "Epoch 8/10\n",
      "\u001b[1m128/128\u001b[0m \u001b[32m━━━━━━━━━━━━━━━━━━━━\u001b[0m\u001b[37m\u001b[0m \u001b[1m73s\u001b[0m 569ms/step - accuracy: 0.2055 - loss: 0.2427 - val_accuracy: 0.2245 - val_loss: 0.2296 - learning_rate: 2.0000e-05\n",
      "Epoch 9/10\n",
      "\u001b[1m128/128\u001b[0m \u001b[32m━━━━━━━━━━━━━━━━━━━━\u001b[0m\u001b[37m\u001b[0m \u001b[1m71s\u001b[0m 556ms/step - accuracy: 0.2196 - loss: 0.2429 - val_accuracy: 0.2245 - val_loss: 0.2295 - learning_rate: 4.0000e-06\n",
      "Epoch 10/10\n",
      "\u001b[1m128/128\u001b[0m \u001b[32m━━━━━━━━━━━━━━━━━━━━\u001b[0m\u001b[37m\u001b[0m \u001b[1m73s\u001b[0m 571ms/step - accuracy: 0.2090 - loss: 0.2432 - val_accuracy: 0.2245 - val_loss: 0.2295 - learning_rate: 4.0000e-06\n",
      "\n",
      "✅ EfficientNetB0 Training Completed in 738.30 seconds!\n"
     ]
    }
   ],
   "source": [
    "# Train models and store training histories\n",
    "history_resnet, time_resnet = train_model(resnet_model, train_dataset, val_dataset, \"ResNet50\")\n",
    "history_vgg, time_vgg = train_model(vgg_model, train_dataset, val_dataset, \"VGG16\")\n",
    "history_efficientnet, time_efficientnet = train_model(efficientnet_model, train_dataset, val_dataset, \"EfficientNetB0\")\n"
   ]
  },
  {
   "cell_type": "markdown",
   "metadata": {},
   "source": [
    "## 🔹 Step 10.4: Compare Training Time\n",
    "### 📌 What Will We Do?\n",
    "- Visualize **how long each model took to train**.\n",
    "## 📌 Expected Insights:\n",
    "- EfficientNet-B0 should be fastest (~4M parameters).\n",
    "- ResNet-50 will take the longest (~23M parameters).\n",
    "- VGG-16 is in between (~14M parameters).\n"
   ]
  },
  {
   "cell_type": "code",
   "execution_count": 23,
   "metadata": {},
   "outputs": [
    {
     "data": {
      "image/png": "[encoded data removed]",
      "text/plain": [
       "<Figure size 800x500 with 1 Axes>"
      ]
     },
     "metadata": {},
     "output_type": "display_data"
    }
   ],
   "source": [
    "import matplotlib.pyplot as plt\n",
    "\n",
    "# Training time comparison\n",
    "models = [\"ResNet-50\", \"VGG-16\", \"EfficientNet-B0\"]\n",
    "times = [time_resnet, time_vgg, time_efficientnet]\n",
    "\n",
    "plt.figure(figsize=(8, 5))\n",
    "plt.bar(models, times, color=['blue', 'red', 'green'])\n",
    "plt.xlabel(\"Model\")\n",
    "plt.ylabel(\"Training Time (seconds)\")\n",
    "plt.title(\"Training Time Comparison\")\n",
    "plt.show()\n"
   ]
  },
  {
   "cell_type": "markdown",
   "metadata": {},
   "source": [
    "## 🔹 Step 10.5: Compare Accuracy and Loss\n",
    "### 📌 What Will We Do?\n",
    "- Plot **training and validation loss curves**.\n",
    "- Plot **training and validation accuracy curves**.\n",
    "### 📌 Why This Step?\n",
    "- Loss curves help check for overfitting.\n",
    "- Accuracy curves show how well models learn over epochs.\n",
    "- If validation loss stops decreasing, the model may be overfitting.\n"
   ]
  },
  {
   "cell_type": "code",
   "execution_count": 24,
   "metadata": {},
   "outputs": [
    {
     "data": {
      "image/png": "[encoded data removed]",
      "text/plain": [
       "<Figure size 1200x500 with 2 Axes>"
      ]
     },
     "metadata": {},
     "output_type": "display_data"
    },
    {
     "data": {
      "image/png": "[encoded data removed]",
      "text/plain": [
       "<Figure size 1200x500 with 2 Axes>"
      ]
     },
     "metadata": {},
     "output_type": "display_data"
    },
    {
     "data": {
      "image/png": "[encoded data removed]",
      "text/plain": [
       "<Figure size 1200x500 with 2 Axes>"
      ]
     },
     "metadata": {},
     "output_type": "display_data"
    }
   ],
   "source": [
    "# Function to plot training curves\n",
    "def plot_training_curves(history, model_name):\n",
    "    plt.figure(figsize=(12, 5))\n",
    "\n",
    "    # Plot Loss\n",
    "    plt.subplot(1, 2, 1)\n",
    "    plt.plot(history.history['loss'], label='Train Loss')\n",
    "    plt.plot(history.history['val_loss'], label='Val Loss')\n",
    "    plt.xlabel('Epochs')\n",
    "    plt.ylabel('Loss')\n",
    "    plt.title(f\"{model_name} - Loss Curve\")\n",
    "    plt.legend()\n",
    "\n",
    "    # Plot Accuracy\n",
    "    plt.subplot(1, 2, 2)\n",
    "    plt.plot(history.history['accuracy'], label='Train Accuracy')\n",
    "    plt.plot(history.history['val_accuracy'], label='Val Accuracy')\n",
    "    plt.xlabel('Epochs')\n",
    "    plt.ylabel('Accuracy')\n",
    "    plt.title(f\"{model_name} - Accuracy Curve\")\n",
    "    plt.legend()\n",
    "\n",
    "    plt.show()\n",
    "\n",
    "# Plot curves for all models\n",
    "plot_training_curves(history_resnet, \"ResNet-50\")\n",
    "plot_training_curves(history_vgg, \"VGG-16\")\n",
    "plot_training_curves(history_efficientnet, \"EfficientNet-B0\")\n"
   ]
  },
  {
   "cell_type": "markdown",
   "metadata": {},
   "source": [
    "## 🔹 Step 10.6: Evaluate Models Using Mean Average Precision (mAP)\n",
    "### 📌 What Will We Do?\n",
    "- Compute **mAP (mean Average Precision)**, a standard metric for Pascal VOC.\n",
    "- Higher mAP indicates **better classification performance**."
   ]
  },
  {
   "cell_type": "code",
   "execution_count": 25,
   "metadata": {},
   "outputs": [
    {
     "name": "stdout",
     "output_type": "stream",
     "text": [
      "\u001b[1m1/1\u001b[0m \u001b[32m━━━━━━━━━━━━━━━━━━━━\u001b[0m\u001b[37m\u001b[0m \u001b[1m2s\u001b[0m 2s/step\n",
      "\u001b[1m1/1\u001b[0m \u001b[32m━━━━━━━━━━━━━━━━━━━━\u001b[0m\u001b[37m\u001b[0m \u001b[1m1s\u001b[0m 948ms/step\n",
      "\u001b[1m1/1\u001b[0m \u001b[32m━━━━━━━━━━━━━━━━━━━━\u001b[0m\u001b[37m\u001b[0m \u001b[1m1s\u001b[0m 942ms/step\n",
      "\u001b[1m1/1\u001b[0m \u001b[32m━━━━━━━━━━━━━━━━━━━━\u001b[0m\u001b[37m\u001b[0m \u001b[1m1s\u001b[0m 961ms/step\n",
      "\u001b[1m1/1\u001b[0m \u001b[32m━━━━━━━━━━━━━━━━━━━━\u001b[0m\u001b[37m\u001b[0m \u001b[1m1s\u001b[0m 946ms/step\n",
      "\u001b[1m1/1\u001b[0m \u001b[32m━━━━━━━━━━━━━━━━━━━━\u001b[0m\u001b[37m\u001b[0m \u001b[1m1s\u001b[0m 944ms/step\n",
      "\u001b[1m1/1\u001b[0m \u001b[32m━━━━━━━━━━━━━━━━━━━━\u001b[0m\u001b[37m\u001b[0m \u001b[1m1s\u001b[0m 947ms/step\n",
      "\u001b[1m1/1\u001b[0m \u001b[32m━━━━━━━━━━━━━━━━━━━━\u001b[0m\u001b[37m\u001b[0m \u001b[1m1s\u001b[0m 949ms/step\n",
      "\u001b[1m1/1\u001b[0m \u001b[32m━━━━━━━━━━━━━━━━━━━━\u001b[0m\u001b[37m\u001b[0m \u001b[1m1s\u001b[0m 955ms/step\n",
      "\u001b[1m1/1\u001b[0m \u001b[32m━━━━━━━━━━━━━━━━━━━━\u001b[0m\u001b[37m\u001b[0m \u001b[1m1s\u001b[0m 956ms/step\n",
      "\u001b[1m1/1\u001b[0m \u001b[32m━━━━━━━━━━━━━━━━━━━━\u001b[0m\u001b[37m\u001b[0m \u001b[1m1s\u001b[0m 948ms/step\n",
      "\u001b[1m1/1\u001b[0m \u001b[32m━━━━━━━━━━━━━━━━━━━━\u001b[0m\u001b[37m\u001b[0m \u001b[1m1s\u001b[0m 939ms/step\n",
      "\u001b[1m1/1\u001b[0m \u001b[32m━━━━━━━━━━━━━━━━━━━━\u001b[0m\u001b[37m\u001b[0m \u001b[1m1s\u001b[0m 958ms/step\n",
      "\u001b[1m1/1\u001b[0m \u001b[32m━━━━━━━━━━━━━━━━━━━━\u001b[0m\u001b[37m\u001b[0m \u001b[1m1s\u001b[0m 942ms/step\n",
      "\u001b[1m1/1\u001b[0m \u001b[32m━━━━━━━━━━━━━━━━━━━━\u001b[0m\u001b[37m\u001b[0m \u001b[1m1s\u001b[0m 947ms/step\n",
      "\u001b[1m1/1\u001b[0m \u001b[32m━━━━━━━━━━━━━━━━━━━━\u001b[0m\u001b[37m\u001b[0m \u001b[1m1s\u001b[0m 941ms/step\n",
      "\u001b[1m1/1\u001b[0m \u001b[32m━━━━━━━━━━━━━━━━━━━━\u001b[0m\u001b[37m\u001b[0m \u001b[1m1s\u001b[0m 950ms/step\n",
      "\u001b[1m1/1\u001b[0m \u001b[32m━━━━━━━━━━━━━━━━━━━━\u001b[0m\u001b[37m\u001b[0m \u001b[1m1s\u001b[0m 937ms/step\n",
      "\u001b[1m1/1\u001b[0m \u001b[32m━━━━━━━━━━━━━━━━━━━━\u001b[0m\u001b[37m\u001b[0m \u001b[1m1s\u001b[0m 944ms/step\n",
      "\u001b[1m1/1\u001b[0m \u001b[32m━━━━━━━━━━━━━━━━━━━━\u001b[0m\u001b[37m\u001b[0m \u001b[1m1s\u001b[0m 941ms/step\n",
      "\u001b[1m1/1\u001b[0m \u001b[32m━━━━━━━━━━━━━━━━━━━━\u001b[0m\u001b[37m\u001b[0m \u001b[1m1s\u001b[0m 967ms/step\n",
      "\u001b[1m1/1\u001b[0m \u001b[32m━━━━━━━━━━━━━━━━━━━━\u001b[0m\u001b[37m\u001b[0m \u001b[1m1s\u001b[0m 953ms/step\n",
      "\u001b[1m1/1\u001b[0m \u001b[32m━━━━━━━━━━━━━━━━━━━━\u001b[0m\u001b[37m\u001b[0m \u001b[1m1s\u001b[0m 960ms/step\n",
      "\u001b[1m1/1\u001b[0m \u001b[32m━━━━━━━━━━━━━━━━━━━━\u001b[0m\u001b[37m\u001b[0m \u001b[1m1s\u001b[0m 954ms/step\n",
      "\u001b[1m1/1\u001b[0m \u001b[32m━━━━━━━━━━━━━━━━━━━━\u001b[0m\u001b[37m\u001b[0m \u001b[1m1s\u001b[0m 949ms/step\n",
      "\u001b[1m1/1\u001b[0m \u001b[32m━━━━━━━━━━━━━━━━━━━━\u001b[0m\u001b[37m\u001b[0m \u001b[1m1s\u001b[0m 950ms/step\n",
      "\u001b[1m1/1\u001b[0m \u001b[32m━━━━━━━━━━━━━━━━━━━━\u001b[0m\u001b[37m\u001b[0m \u001b[1m1s\u001b[0m 947ms/step\n",
      "\u001b[1m1/1\u001b[0m \u001b[32m━━━━━━━━━━━━━━━━━━━━\u001b[0m\u001b[37m\u001b[0m \u001b[1m1s\u001b[0m 961ms/step\n",
      "\u001b[1m1/1\u001b[0m \u001b[32m━━━━━━━━━━━━━━━━━━━━\u001b[0m\u001b[37m\u001b[0m \u001b[1m1s\u001b[0m 942ms/step\n",
      "\u001b[1m1/1\u001b[0m \u001b[32m━━━━━━━━━━━━━━━━━━━━\u001b[0m\u001b[37m\u001b[0m \u001b[1m1s\u001b[0m 945ms/step\n",
      "\u001b[1m1/1\u001b[0m \u001b[32m━━━━━━━━━━━━━━━━━━━━\u001b[0m\u001b[37m\u001b[0m \u001b[1m1s\u001b[0m 949ms/step\n",
      "\u001b[1m1/1\u001b[0m \u001b[32m━━━━━━━━━━━━━━━━━━━━\u001b[0m\u001b[37m\u001b[0m \u001b[1m2s\u001b[0m 2s/step\n",
      "✅ ResNet-50 mAP: 0.1674\n",
      "\u001b[1m1/1\u001b[0m \u001b[32m━━━━━━━━━━━━━━━━━━━━\u001b[0m\u001b[37m\u001b[0m \u001b[1m2s\u001b[0m 2s/step\n",
      "\u001b[1m1/1\u001b[0m \u001b[32m━━━━━━━━━━━━━━━━━━━━\u001b[0m\u001b[37m\u001b[0m \u001b[1m2s\u001b[0m 2s/step\n",
      "\u001b[1m1/1\u001b[0m \u001b[32m━━━━━━━━━━━━━━━━━━━━\u001b[0m\u001b[37m\u001b[0m \u001b[1m2s\u001b[0m 2s/step\n",
      "\u001b[1m1/1\u001b[0m \u001b[32m━━━━━━━━━━━━━━━━━━━━\u001b[0m\u001b[37m\u001b[0m \u001b[1m2s\u001b[0m 2s/step\n",
      "\u001b[1m1/1\u001b[0m \u001b[32m━━━━━━━━━━━━━━━━━━━━\u001b[0m\u001b[37m\u001b[0m \u001b[1m2s\u001b[0m 2s/step\n",
      "\u001b[1m1/1\u001b[0m \u001b[32m━━━━━━━━━━━━━━━━━━━━\u001b[0m\u001b[37m\u001b[0m \u001b[1m2s\u001b[0m 2s/step\n",
      "\u001b[1m1/1\u001b[0m \u001b[32m━━━━━━━━━━━━━━━━━━━━\u001b[0m\u001b[37m\u001b[0m \u001b[1m2s\u001b[0m 2s/step\n",
      "\u001b[1m1/1\u001b[0m \u001b[32m━━━━━━━━━━━━━━━━━━━━\u001b[0m\u001b[37m\u001b[0m \u001b[1m2s\u001b[0m 2s/step\n",
      "\u001b[1m1/1\u001b[0m \u001b[32m━━━━━━━━━━━━━━━━━━━━\u001b[0m\u001b[37m\u001b[0m \u001b[1m2s\u001b[0m 2s/step\n",
      "\u001b[1m1/1\u001b[0m \u001b[32m━━━━━━━━━━━━━━━━━━━━\u001b[0m\u001b[37m\u001b[0m \u001b[1m2s\u001b[0m 2s/step\n",
      "\u001b[1m1/1\u001b[0m \u001b[32m━━━━━━━━━━━━━━━━━━━━\u001b[0m\u001b[37m\u001b[0m \u001b[1m2s\u001b[0m 2s/step\n",
      "\u001b[1m1/1\u001b[0m \u001b[32m━━━━━━━━━━━━━━━━━━━━\u001b[0m\u001b[37m\u001b[0m \u001b[1m2s\u001b[0m 2s/step\n",
      "\u001b[1m1/1\u001b[0m \u001b[32m━━━━━━━━━━━━━━━━━━━━\u001b[0m\u001b[37m\u001b[0m \u001b[1m2s\u001b[0m 2s/step\n",
      "\u001b[1m1/1\u001b[0m \u001b[32m━━━━━━━━━━━━━━━━━━━━\u001b[0m\u001b[37m\u001b[0m \u001b[1m2s\u001b[0m 2s/step\n",
      "\u001b[1m1/1\u001b[0m \u001b[32m━━━━━━━━━━━━━━━━━━━━\u001b[0m\u001b[37m\u001b[0m \u001b[1m2s\u001b[0m 2s/step\n",
      "\u001b[1m1/1\u001b[0m \u001b[32m━━━━━━━━━━━━━━━━━━━━\u001b[0m\u001b[37m\u001b[0m \u001b[1m2s\u001b[0m 2s/step\n",
      "\u001b[1m1/1\u001b[0m \u001b[32m━━━━━━━━━━━━━━━━━━━━\u001b[0m\u001b[37m\u001b[0m \u001b[1m2s\u001b[0m 2s/step\n",
      "\u001b[1m1/1\u001b[0m \u001b[32m━━━━━━━━━━━━━━━━━━━━\u001b[0m\u001b[37m\u001b[0m \u001b[1m2s\u001b[0m 2s/step\n",
      "\u001b[1m1/1\u001b[0m \u001b[32m━━━━━━━━━━━━━━━━━━━━\u001b[0m\u001b[37m\u001b[0m \u001b[1m2s\u001b[0m 2s/step\n",
      "\u001b[1m1/1\u001b[0m \u001b[32m━━━━━━━━━━━━━━━━━━━━\u001b[0m\u001b[37m\u001b[0m \u001b[1m2s\u001b[0m 2s/step\n",
      "\u001b[1m1/1\u001b[0m \u001b[32m━━━━━━━━━━━━━━━━━━━━\u001b[0m\u001b[37m\u001b[0m \u001b[1m2s\u001b[0m 2s/step\n",
      "\u001b[1m1/1\u001b[0m \u001b[32m━━━━━━━━━━━━━━━━━━━━\u001b[0m\u001b[37m\u001b[0m \u001b[1m2s\u001b[0m 2s/step\n",
      "\u001b[1m1/1\u001b[0m \u001b[32m━━━━━━━━━━━━━━━━━━━━\u001b[0m\u001b[37m\u001b[0m \u001b[1m2s\u001b[0m 2s/step\n",
      "\u001b[1m1/1\u001b[0m \u001b[32m━━━━━━━━━━━━━━━━━━━━\u001b[0m\u001b[37m\u001b[0m \u001b[1m2s\u001b[0m 2s/step\n",
      "\u001b[1m1/1\u001b[0m \u001b[32m━━━━━━━━━━━━━━━━━━━━\u001b[0m\u001b[37m\u001b[0m \u001b[1m2s\u001b[0m 2s/step\n",
      "\u001b[1m1/1\u001b[0m \u001b[32m━━━━━━━━━━━━━━━━━━━━\u001b[0m\u001b[37m\u001b[0m \u001b[1m2s\u001b[0m 2s/step\n",
      "\u001b[1m1/1\u001b[0m \u001b[32m━━━━━━━━━━━━━━━━━━━━\u001b[0m\u001b[37m\u001b[0m \u001b[1m2s\u001b[0m 2s/step\n",
      "\u001b[1m1/1\u001b[0m \u001b[32m━━━━━━━━━━━━━━━━━━━━\u001b[0m\u001b[37m\u001b[0m \u001b[1m2s\u001b[0m 2s/step\n",
      "\u001b[1m1/1\u001b[0m \u001b[32m━━━━━━━━━━━━━━━━━━━━\u001b[0m\u001b[37m\u001b[0m \u001b[1m2s\u001b[0m 2s/step\n",
      "\u001b[1m1/1\u001b[0m \u001b[32m━━━━━━━━━━━━━━━━━━━━\u001b[0m\u001b[37m\u001b[0m \u001b[1m2s\u001b[0m 2s/step\n",
      "\u001b[1m1/1\u001b[0m \u001b[32m━━━━━━━━━━━━━━━━━━━━\u001b[0m\u001b[37m\u001b[0m \u001b[1m2s\u001b[0m 2s/step\n",
      "\u001b[1m1/1\u001b[0m \u001b[32m━━━━━━━━━━━━━━━━━━━━\u001b[0m\u001b[37m\u001b[0m \u001b[1m2s\u001b[0m 2s/step\n",
      "✅ VGG-16 mAP: 0.3871\n",
      "\u001b[1m1/1\u001b[0m \u001b[32m━━━━━━━━━━━━━━━━━━━━\u001b[0m\u001b[37m\u001b[0m \u001b[1m2s\u001b[0m 2s/step\n",
      "\u001b[1m1/1\u001b[0m \u001b[32m━━━━━━━━━━━━━━━━━━━━\u001b[0m\u001b[37m\u001b[0m \u001b[1m0s\u001b[0m 468ms/step\n",
      "\u001b[1m1/1\u001b[0m \u001b[32m━━━━━━━━━━━━━━━━━━━━\u001b[0m\u001b[37m\u001b[0m \u001b[1m0s\u001b[0m 466ms/step\n",
      "\u001b[1m1/1\u001b[0m \u001b[32m━━━━━━━━━━━━━━━━━━━━\u001b[0m\u001b[37m\u001b[0m \u001b[1m0s\u001b[0m 458ms/step\n",
      "\u001b[1m1/1\u001b[0m \u001b[32m━━━━━━━━━━━━━━━━━━━━\u001b[0m\u001b[37m\u001b[0m \u001b[1m0s\u001b[0m 467ms/step\n",
      "\u001b[1m1/1\u001b[0m \u001b[32m━━━━━━━━━━━━━━━━━━━━\u001b[0m\u001b[37m\u001b[0m \u001b[1m0s\u001b[0m 459ms/step\n",
      "\u001b[1m1/1\u001b[0m \u001b[32m━━━━━━━━━━━━━━━━━━━━\u001b[0m\u001b[37m\u001b[0m \u001b[1m0s\u001b[0m 462ms/step\n",
      "\u001b[1m1/1\u001b[0m \u001b[32m━━━━━━━━━━━━━━━━━━━━\u001b[0m\u001b[37m\u001b[0m \u001b[1m0s\u001b[0m 467ms/step\n",
      "\u001b[1m1/1\u001b[0m \u001b[32m━━━━━━━━━━━━━━━━━━━━\u001b[0m\u001b[37m\u001b[0m \u001b[1m0s\u001b[0m 464ms/step\n",
      "\u001b[1m1/1\u001b[0m \u001b[32m━━━━━━━━━━━━━━━━━━━━\u001b[0m\u001b[37m\u001b[0m \u001b[1m0s\u001b[0m 479ms/step\n",
      "\u001b[1m1/1\u001b[0m \u001b[32m━━━━━━━━━━━━━━━━━━━━\u001b[0m\u001b[37m\u001b[0m \u001b[1m0s\u001b[0m 479ms/step\n",
      "\u001b[1m1/1\u001b[0m \u001b[32m━━━━━━━━━━━━━━━━━━━━\u001b[0m\u001b[37m\u001b[0m \u001b[1m0s\u001b[0m 474ms/step\n",
      "\u001b[1m1/1\u001b[0m \u001b[32m━━━━━━━━━━━━━━━━━━━━\u001b[0m\u001b[37m\u001b[0m \u001b[1m0s\u001b[0m 477ms/step\n",
      "\u001b[1m1/1\u001b[0m \u001b[32m━━━━━━━━━━━━━━━━━━━━\u001b[0m\u001b[37m\u001b[0m \u001b[1m0s\u001b[0m 478ms/step\n",
      "\u001b[1m1/1\u001b[0m \u001b[32m━━━━━━━━━━━━━━━━━━━━\u001b[0m\u001b[37m\u001b[0m \u001b[1m0s\u001b[0m 480ms/step\n",
      "\u001b[1m1/1\u001b[0m \u001b[32m━━━━━━━━━━━━━━━━━━━━\u001b[0m\u001b[37m\u001b[0m \u001b[1m0s\u001b[0m 473ms/step\n",
      "\u001b[1m1/1\u001b[0m \u001b[32m━━━━━━━━━━━━━━━━━━━━\u001b[0m\u001b[37m\u001b[0m \u001b[1m0s\u001b[0m 482ms/step\n",
      "\u001b[1m1/1\u001b[0m \u001b[32m━━━━━━━━━━━━━━━━━━━━\u001b[0m\u001b[37m\u001b[0m \u001b[1m0s\u001b[0m 474ms/step\n",
      "\u001b[1m1/1\u001b[0m \u001b[32m━━━━━━━━━━━━━━━━━━━━\u001b[0m\u001b[37m\u001b[0m \u001b[1m0s\u001b[0m 480ms/step\n",
      "\u001b[1m1/1\u001b[0m \u001b[32m━━━━━━━━━━━━━━━━━━━━\u001b[0m\u001b[37m\u001b[0m \u001b[1m0s\u001b[0m 478ms/step\n",
      "\u001b[1m1/1\u001b[0m \u001b[32m━━━━━━━━━━━━━━━━━━━━\u001b[0m\u001b[37m\u001b[0m \u001b[1m0s\u001b[0m 476ms/step\n",
      "\u001b[1m1/1\u001b[0m \u001b[32m━━━━━━━━━━━━━━━━━━━━\u001b[0m\u001b[37m\u001b[0m \u001b[1m0s\u001b[0m 471ms/step\n",
      "\u001b[1m1/1\u001b[0m \u001b[32m━━━━━━━━━━━━━━━━━━━━\u001b[0m\u001b[37m\u001b[0m \u001b[1m0s\u001b[0m 469ms/step\n",
      "\u001b[1m1/1\u001b[0m \u001b[32m━━━━━━━━━━━━━━━━━━━━\u001b[0m\u001b[37m\u001b[0m \u001b[1m0s\u001b[0m 470ms/step\n",
      "\u001b[1m1/1\u001b[0m \u001b[32m━━━━━━━━━━━━━━━━━━━━\u001b[0m\u001b[37m\u001b[0m \u001b[1m0s\u001b[0m 495ms/step\n",
      "\u001b[1m1/1\u001b[0m \u001b[32m━━━━━━━━━━━━━━━━━━━━\u001b[0m\u001b[37m\u001b[0m \u001b[1m0s\u001b[0m 473ms/step\n",
      "\u001b[1m1/1\u001b[0m \u001b[32m━━━━━━━━━━━━━━━━━━━━\u001b[0m\u001b[37m\u001b[0m \u001b[1m0s\u001b[0m 461ms/step\n",
      "\u001b[1m1/1\u001b[0m \u001b[32m━━━━━━━━━━━━━━━━━━━━\u001b[0m\u001b[37m\u001b[0m \u001b[1m0s\u001b[0m 456ms/step\n",
      "\u001b[1m1/1\u001b[0m \u001b[32m━━━━━━━━━━━━━━━━━━━━\u001b[0m\u001b[37m\u001b[0m \u001b[1m0s\u001b[0m 469ms/step\n",
      "\u001b[1m1/1\u001b[0m \u001b[32m━━━━━━━━━━━━━━━━━━━━\u001b[0m\u001b[37m\u001b[0m \u001b[1m0s\u001b[0m 458ms/step\n",
      "\u001b[1m1/1\u001b[0m \u001b[32m━━━━━━━━━━━━━━━━━━━━\u001b[0m\u001b[37m\u001b[0m \u001b[1m0s\u001b[0m 466ms/step\n",
      "\u001b[1m1/1\u001b[0m \u001b[32m━━━━━━━━━━━━━━━━━━━━\u001b[0m\u001b[37m\u001b[0m \u001b[1m2s\u001b[0m 2s/step\n",
      "✅ EfficientNet-B0 mAP: 0.0875\n"
     ]
    }
   ],
   "source": [
    "from sklearn.metrics import average_precision_score\n",
    "import numpy as np\n",
    "\n",
    "# Function to compute mAP\n",
    "def compute_map(model, dataset, model_name):\n",
    "    y_true = []\n",
    "    y_pred = []\n",
    "\n",
    "    for images, labels in dataset:\n",
    "        preds = model.predict(images)\n",
    "        y_true.append(labels.numpy())\n",
    "        y_pred.append(preds)\n",
    "\n",
    "    y_true = np.vstack(y_true)\n",
    "    y_pred = np.vstack(y_pred)\n",
    "\n",
    "    map_score = average_precision_score(y_true, y_pred, average=\"macro\")\n",
    "    print(f\"✅ {model_name} mAP: {map_score:.4f}\")\n",
    "\n",
    "    return map_score\n",
    "\n",
    "# Compute mAP for each model\n",
    "map_resnet = compute_map(resnet_model, val_dataset, \"ResNet-50\")\n",
    "map_vgg = compute_map(vgg_model, val_dataset, \"VGG-16\")\n",
    "map_efficientnet = compute_map(efficientnet_model, val_dataset, \"EfficientNet-B0\")\n"
   ]
  },
  {
   "cell_type": "markdown",
   "metadata": {},
   "source": [
    "# Step 11: Test the models on unseen images\n",
    "## We need to:\n",
    "- 1️⃣ Load the test image IDs from **ImageSets/Main/test.txt**.\n",
    "- 2️⃣ Find the corresponding image files in JPEGImages/.\n",
    "- 3️⃣ Preprocess the images (resize, normalize).\n",
    "- 4️⃣ Use the trained models to make predictions.\n",
    "- 5️⃣ Interpret the predictions (convert probabilities into labels)."
   ]
  },
  {
   "cell_type": "markdown",
   "metadata": {},
   "source": [
    "## 🔹 Step 11.1: Load Test Image Paths"
   ]
  },
  {
   "cell_type": "code",
   "execution_count": 17,
   "metadata": {},
   "outputs": [
    {
     "name": "stdout",
     "output_type": "stream",
     "text": [
      "\n",
      "🔹 Example test image paths: ['d:\\\\DLP Labs\\\\DLP Lab 5 test images\\\\2008_000018.jpg', 'd:\\\\DLP Labs\\\\DLP Lab 5 test images\\\\2008_000122.jpg', 'd:\\\\DLP Labs\\\\DLP Lab 5 test images\\\\2008_000125.jpg', 'd:\\\\DLP Labs\\\\DLP Lab 5 test images\\\\2008_000179.jpg', 'd:\\\\DLP Labs\\\\DLP Lab 5 test images\\\\2008_000220.jpg']\n",
      "✅ Found 30 unseen test images in 'DLP Lab 5 test images' folder!\n"
     ]
    }
   ],
   "source": [
    "import os\n",
    "\n",
    "# Define the folder where test images are stored\n",
    "TEST_IMAGE_DIR = os.path.join(os.getcwd(), \"DLP Lab 5 test images\")  # Current working directory\n",
    "\n",
    "# Create an empty list to store full image paths\n",
    "test_image_paths = []\n",
    "\n",
    "# Loop through each file in the test image directory\n",
    "for filename in os.listdir(TEST_IMAGE_DIR):\n",
    "    # Check if the file is a JPG image\n",
    "    if filename.endswith(\".jpg\"):\n",
    "        # Create the full path by joining the folder path with the filename\n",
    "        full_path = os.path.join(TEST_IMAGE_DIR, filename)\n",
    "\n",
    "        # Add the full path to the list\n",
    "        test_image_paths.append(full_path)\n",
    "\n",
    "# Print a few test image paths for verification\n",
    "print(\"\\n🔹 Example test image paths:\", test_image_paths[:5])\n",
    "\n",
    "# Print the total number of test images found\n",
    "print(f\"✅ Found {len(test_image_paths)} unseen test images in 'DLP Lab 5 test images' folder!\")\n"
   ]
  },
  {
   "cell_type": "markdown",
   "metadata": {},
   "source": [
    "# 🔹 Step 11.2: Preprocess Images for Model Input\n",
    "\n",
    "## 📌 Why This Step?\n",
    "\n",
    "- Loads images from file.\n",
    "- Resizes them to 224x224 (same as training images).\n",
    "- Normalizes pixel values (scales to [0,1]).\n",
    "- Adds a batch dimension ((1, 224, 224, 3)) for model input.\n"
   ]
  },
  {
   "cell_type": "code",
   "execution_count": 19,
   "metadata": {},
   "outputs": [],
   "source": [
    "# Function to preprocess a single image for model prediction\n",
    "def preprocess_image(image_path):\n",
    "    \"\"\"\n",
    "    Loads and preprocesses an image for model inference.\n",
    "\n",
    "    Args:\n",
    "        image_path (str): Path to the image file.\n",
    "\n",
    "    Returns:\n",
    "        image (tensor): Preprocessed image ready for prediction.\n",
    "    \"\"\"\n",
    "    # Load the image\n",
    "    image = tf.io.read_file(image_path)\n",
    "    image = tf.image.decode_jpeg(image, channels=3)  # Decode JPEG\n",
    "    image = tf.image.resize(image, (224, 224))  # Resize to match model input size\n",
    "    image = image / 255.0  # Normalize pixel values to [0,1]\n",
    "\n",
    "    return tf.expand_dims(image, axis=0)  # Add batch dimension (1, 224, 224, 3)\n"
   ]
  },
  {
   "cell_type": "markdown",
   "metadata": {},
   "source": [
    "## 🔹 Step 11.3: Load the Best Trained Models\n",
    "### 📌 Why This Step?\n",
    "- Loads the best saved models from training.\n",
    "- Ensures we use the same trained weights for inference."
   ]
  },
  {
   "cell_type": "code",
   "execution_count": 15,
   "metadata": {},
   "outputs": [
    {
     "name": "stdout",
     "output_type": "stream",
     "text": [
      "✅ All trained models loaded successfully!\n"
     ]
    }
   ],
   "source": [
    "from tensorflow import keras\n",
    "\n",
    "# Load the best trained models\n",
    "best_resnet = keras.models.load_model(\"DLP Lab 5 ResNet50_best.keras\")\n",
    "best_vgg = keras.models.load_model(\"DLP Lab 5 VGG16_best.keras\")\n",
    "best_efficientnet = keras.models.load_model(\"DLP Lab 5 EfficientNetB0_best.keras\")\n",
    "\n",
    "print(\"✅ All trained models loaded successfully!\")\n"
   ]
  },
  {
   "cell_type": "markdown",
   "metadata": {},
   "source": [
    "## 🔹 Step 11.4: Run Predictions on Unseen Images\n",
    "### 📌 Why This Step?\n",
    "- Picks 5 random unseen images from the test set.\n",
    "- Preprocesses and feeds them into all three trained models.\n",
    "- Converts predicted probabilities into class labels (threshold = 0.5).\n",
    "- Prints the predicted object categories for each model"
   ]
  },
  {
   "cell_type": "code",
   "execution_count": 20,
   "metadata": {},
   "outputs": [
    {
     "name": "stdout",
     "output_type": "stream",
     "text": [
      "\n",
      "🔹 Predicting for image: d:\\DLP Labs\\DLP Lab 5 test images\\2008_000018.jpg\n",
      "\u001b[1m1/1\u001b[0m \u001b[32m━━━━━━━━━━━━━━━━━━━━\u001b[0m\u001b[37m\u001b[0m \u001b[1m3s\u001b[0m 3s/step\n",
      "\u001b[1m1/1\u001b[0m \u001b[32m━━━━━━━━━━━━━━━━━━━━\u001b[0m\u001b[37m\u001b[0m \u001b[1m0s\u001b[0m 481ms/step\n",
      "\u001b[1m1/1\u001b[0m \u001b[32m━━━━━━━━━━━━━━━━━━━━\u001b[0m\u001b[37m\u001b[0m \u001b[1m3s\u001b[0m 3s/step\n",
      "📌 ResNet-50 Predictions: ['person']\n",
      "📌 VGG-16 Predictions: ['aeroplane']\n",
      "📌 EfficientNet-B0 Predictions: ['person']\n",
      "\n",
      "🔹 Predicting for image: d:\\DLP Labs\\DLP Lab 5 test images\\2008_000122.jpg\n",
      "\u001b[1m1/1\u001b[0m \u001b[32m━━━━━━━━━━━━━━━━━━━━\u001b[0m\u001b[37m\u001b[0m \u001b[1m0s\u001b[0m 199ms/step\n",
      "\u001b[1m1/1\u001b[0m \u001b[32m━━━━━━━━━━━━━━━━━━━━\u001b[0m\u001b[37m\u001b[0m \u001b[1m0s\u001b[0m 208ms/step\n",
      "\u001b[1m1/1\u001b[0m \u001b[32m━━━━━━━━━━━━━━━━━━━━\u001b[0m\u001b[37m\u001b[0m \u001b[1m0s\u001b[0m 169ms/step\n",
      "📌 ResNet-50 Predictions: ['person']\n",
      "📌 VGG-16 Predictions: ['person']\n",
      "📌 EfficientNet-B0 Predictions: ['person']\n",
      "\n",
      "🔹 Predicting for image: d:\\DLP Labs\\DLP Lab 5 test images\\2008_000125.jpg\n",
      "\u001b[1m1/1\u001b[0m \u001b[32m━━━━━━━━━━━━━━━━━━━━\u001b[0m\u001b[37m\u001b[0m \u001b[1m0s\u001b[0m 172ms/step\n",
      "\u001b[1m1/1\u001b[0m \u001b[32m━━━━━━━━━━━━━━━━━━━━\u001b[0m\u001b[37m\u001b[0m \u001b[1m0s\u001b[0m 218ms/step\n",
      "\u001b[1m1/1\u001b[0m \u001b[32m━━━━━━━━━━━━━━━━━━━━\u001b[0m\u001b[37m\u001b[0m \u001b[1m0s\u001b[0m 116ms/step\n",
      "📌 ResNet-50 Predictions: ['person']\n",
      "📌 VGG-16 Predictions: ['chair', 'person']\n",
      "📌 EfficientNet-B0 Predictions: ['person']\n",
      "\n",
      "🔹 Predicting for image: d:\\DLP Labs\\DLP Lab 5 test images\\2008_000179.jpg\n",
      "\u001b[1m1/1\u001b[0m \u001b[32m━━━━━━━━━━━━━━━━━━━━\u001b[0m\u001b[37m\u001b[0m \u001b[1m0s\u001b[0m 127ms/step\n",
      "\u001b[1m1/1\u001b[0m \u001b[32m━━━━━━━━━━━━━━━━━━━━\u001b[0m\u001b[37m\u001b[0m \u001b[1m0s\u001b[0m 253ms/step\n",
      "\u001b[1m1/1\u001b[0m \u001b[32m━━━━━━━━━━━━━━━━━━━━\u001b[0m\u001b[37m\u001b[0m \u001b[1m0s\u001b[0m 123ms/step\n",
      "📌 ResNet-50 Predictions: ['person']\n",
      "📌 VGG-16 Predictions: ['person']\n",
      "📌 EfficientNet-B0 Predictions: ['person']\n",
      "\n",
      "🔹 Predicting for image: d:\\DLP Labs\\DLP Lab 5 test images\\2008_000220.jpg\n",
      "\u001b[1m1/1\u001b[0m \u001b[32m━━━━━━━━━━━━━━━━━━━━\u001b[0m\u001b[37m\u001b[0m \u001b[1m0s\u001b[0m 204ms/step\n",
      "\u001b[1m1/1\u001b[0m \u001b[32m━━━━━━━━━━━━━━━━━━━━\u001b[0m\u001b[37m\u001b[0m \u001b[1m0s\u001b[0m 242ms/step\n",
      "\u001b[1m1/1\u001b[0m \u001b[32m━━━━━━━━━━━━━━━━━━━━\u001b[0m\u001b[37m\u001b[0m \u001b[1m0s\u001b[0m 95ms/step\n",
      "📌 ResNet-50 Predictions: ['person']\n",
      "📌 VGG-16 Predictions: []\n",
      "📌 EfficientNet-B0 Predictions: ['person']\n",
      "\n",
      "🔹 Predicting for image: d:\\DLP Labs\\DLP Lab 5 test images\\2008_000337.jpg\n",
      "\u001b[1m1/1\u001b[0m \u001b[32m━━━━━━━━━━━━━━━━━━━━\u001b[0m\u001b[37m\u001b[0m \u001b[1m0s\u001b[0m 197ms/step\n",
      "\u001b[1m1/1\u001b[0m \u001b[32m━━━━━━━━━━━━━━━━━━━━\u001b[0m\u001b[37m\u001b[0m \u001b[1m0s\u001b[0m 227ms/step\n",
      "\u001b[1m1/1\u001b[0m \u001b[32m━━━━━━━━━━━━━━━━━━━━\u001b[0m\u001b[37m\u001b[0m \u001b[1m0s\u001b[0m 155ms/step\n",
      "📌 ResNet-50 Predictions: ['person']\n",
      "📌 VGG-16 Predictions: []\n",
      "📌 EfficientNet-B0 Predictions: ['person']\n",
      "\n",
      "🔹 Predicting for image: d:\\DLP Labs\\DLP Lab 5 test images\\2008_000503.jpg\n",
      "\u001b[1m1/1\u001b[0m \u001b[32m━━━━━━━━━━━━━━━━━━━━\u001b[0m\u001b[37m\u001b[0m \u001b[1m0s\u001b[0m 172ms/step\n",
      "\u001b[1m1/1\u001b[0m \u001b[32m━━━━━━━━━━━━━━━━━━━━\u001b[0m\u001b[37m\u001b[0m \u001b[1m0s\u001b[0m 241ms/step\n",
      "\u001b[1m1/1\u001b[0m \u001b[32m━━━━━━━━━━━━━━━━━━━━\u001b[0m\u001b[37m\u001b[0m \u001b[1m0s\u001b[0m 137ms/step\n",
      "📌 ResNet-50 Predictions: ['person']\n",
      "📌 VGG-16 Predictions: ['person']\n",
      "📌 EfficientNet-B0 Predictions: ['person']\n",
      "\n",
      "🔹 Predicting for image: d:\\DLP Labs\\DLP Lab 5 test images\\2008_003540.jpg\n",
      "\u001b[1m1/1\u001b[0m \u001b[32m━━━━━━━━━━━━━━━━━━━━\u001b[0m\u001b[37m\u001b[0m \u001b[1m0s\u001b[0m 176ms/step\n",
      "\u001b[1m1/1\u001b[0m \u001b[32m━━━━━━━━━━━━━━━━━━━━\u001b[0m\u001b[37m\u001b[0m \u001b[1m0s\u001b[0m 267ms/step\n",
      "\u001b[1m1/1\u001b[0m \u001b[32m━━━━━━━━━━━━━━━━━━━━\u001b[0m\u001b[37m\u001b[0m \u001b[1m0s\u001b[0m 111ms/step\n",
      "📌 ResNet-50 Predictions: ['person']\n",
      "📌 VGG-16 Predictions: ['person']\n",
      "📌 EfficientNet-B0 Predictions: ['person']\n",
      "\n",
      "🔹 Predicting for image: d:\\DLP Labs\\DLP Lab 5 test images\\2008_003584.jpg\n",
      "\u001b[1m1/1\u001b[0m \u001b[32m━━━━━━━━━━━━━━━━━━━━\u001b[0m\u001b[37m\u001b[0m \u001b[1m0s\u001b[0m 156ms/step\n",
      "\u001b[1m1/1\u001b[0m \u001b[32m━━━━━━━━━━━━━━━━━━━━\u001b[0m\u001b[37m\u001b[0m \u001b[1m0s\u001b[0m 239ms/step\n",
      "\u001b[1m1/1\u001b[0m \u001b[32m━━━━━━━━━━━━━━━━━━━━\u001b[0m\u001b[37m\u001b[0m \u001b[1m0s\u001b[0m 106ms/step\n",
      "📌 ResNet-50 Predictions: ['person']\n",
      "📌 VGG-16 Predictions: []\n",
      "📌 EfficientNet-B0 Predictions: ['person']\n",
      "\n",
      "🔹 Predicting for image: d:\\DLP Labs\\DLP Lab 5 test images\\2008_005619.jpg\n",
      "\u001b[1m1/1\u001b[0m \u001b[32m━━━━━━━━━━━━━━━━━━━━\u001b[0m\u001b[37m\u001b[0m \u001b[1m0s\u001b[0m 170ms/step\n",
      "\u001b[1m1/1\u001b[0m \u001b[32m━━━━━━━━━━━━━━━━━━━━\u001b[0m\u001b[37m\u001b[0m \u001b[1m0s\u001b[0m 261ms/step\n",
      "\u001b[1m1/1\u001b[0m \u001b[32m━━━━━━━━━━━━━━━━━━━━\u001b[0m\u001b[37m\u001b[0m \u001b[1m0s\u001b[0m 108ms/step\n",
      "📌 ResNet-50 Predictions: ['person']\n",
      "📌 VGG-16 Predictions: []\n",
      "📌 EfficientNet-B0 Predictions: ['person']\n",
      "\n",
      "🔹 Predicting for image: d:\\DLP Labs\\DLP Lab 5 test images\\2008_006851.jpg\n",
      "\u001b[1m1/1\u001b[0m \u001b[32m━━━━━━━━━━━━━━━━━━━━\u001b[0m\u001b[37m\u001b[0m \u001b[1m0s\u001b[0m 170ms/step\n",
      "\u001b[1m1/1\u001b[0m \u001b[32m━━━━━━━━━━━━━━━━━━━━\u001b[0m\u001b[37m\u001b[0m \u001b[1m0s\u001b[0m 294ms/step\n",
      "\u001b[1m1/1\u001b[0m \u001b[32m━━━━━━━━━━━━━━━━━━━━\u001b[0m\u001b[37m\u001b[0m \u001b[1m0s\u001b[0m 123ms/step\n",
      "📌 ResNet-50 Predictions: ['person']\n",
      "📌 VGG-16 Predictions: ['person']\n",
      "📌 EfficientNet-B0 Predictions: ['person']\n",
      "\n",
      "🔹 Predicting for image: d:\\DLP Labs\\DLP Lab 5 test images\\2008_006935.jpg\n",
      "\u001b[1m1/1\u001b[0m \u001b[32m━━━━━━━━━━━━━━━━━━━━\u001b[0m\u001b[37m\u001b[0m \u001b[1m0s\u001b[0m 181ms/step\n",
      "\u001b[1m1/1\u001b[0m \u001b[32m━━━━━━━━━━━━━━━━━━━━\u001b[0m\u001b[37m\u001b[0m \u001b[1m0s\u001b[0m 263ms/step\n",
      "\u001b[1m1/1\u001b[0m \u001b[32m━━━━━━━━━━━━━━━━━━━━\u001b[0m\u001b[37m\u001b[0m \u001b[1m0s\u001b[0m 159ms/step\n",
      "📌 ResNet-50 Predictions: ['person']\n",
      "📌 VGG-16 Predictions: ['person']\n",
      "📌 EfficientNet-B0 Predictions: ['person']\n",
      "\n",
      "🔹 Predicting for image: d:\\DLP Labs\\DLP Lab 5 test images\\2008_006937.jpg\n",
      "\u001b[1m1/1\u001b[0m \u001b[32m━━━━━━━━━━━━━━━━━━━━\u001b[0m\u001b[37m\u001b[0m \u001b[1m0s\u001b[0m 194ms/step\n",
      "\u001b[1m1/1\u001b[0m \u001b[32m━━━━━━━━━━━━━━━━━━━━\u001b[0m\u001b[37m\u001b[0m \u001b[1m0s\u001b[0m 263ms/step\n",
      "\u001b[1m1/1\u001b[0m \u001b[32m━━━━━━━━━━━━━━━━━━━━\u001b[0m\u001b[37m\u001b[0m \u001b[1m0s\u001b[0m 150ms/step\n",
      "📌 ResNet-50 Predictions: ['person']\n",
      "📌 VGG-16 Predictions: ['person']\n",
      "📌 EfficientNet-B0 Predictions: ['person']\n",
      "\n",
      "🔹 Predicting for image: d:\\DLP Labs\\DLP Lab 5 test images\\2008_007300.jpg\n",
      "\u001b[1m1/1\u001b[0m \u001b[32m━━━━━━━━━━━━━━━━━━━━\u001b[0m\u001b[37m\u001b[0m \u001b[1m0s\u001b[0m 145ms/step\n",
      "\u001b[1m1/1\u001b[0m \u001b[32m━━━━━━━━━━━━━━━━━━━━\u001b[0m\u001b[37m\u001b[0m \u001b[1m0s\u001b[0m 230ms/step\n",
      "\u001b[1m1/1\u001b[0m \u001b[32m━━━━━━━━━━━━━━━━━━━━\u001b[0m\u001b[37m\u001b[0m \u001b[1m0s\u001b[0m 116ms/step\n",
      "📌 ResNet-50 Predictions: ['person']\n",
      "📌 VGG-16 Predictions: ['person']\n",
      "📌 EfficientNet-B0 Predictions: ['person']\n",
      "\n",
      "🔹 Predicting for image: d:\\DLP Labs\\DLP Lab 5 test images\\2008_007518.jpg\n",
      "\u001b[1m1/1\u001b[0m \u001b[32m━━━━━━━━━━━━━━━━━━━━\u001b[0m\u001b[37m\u001b[0m \u001b[1m0s\u001b[0m 200ms/step\n",
      "\u001b[1m1/1\u001b[0m \u001b[32m━━━━━━━━━━━━━━━━━━━━\u001b[0m\u001b[37m\u001b[0m \u001b[1m0s\u001b[0m 244ms/step\n",
      "\u001b[1m1/1\u001b[0m \u001b[32m━━━━━━━━━━━━━━━━━━━━\u001b[0m\u001b[37m\u001b[0m \u001b[1m0s\u001b[0m 134ms/step\n",
      "📌 ResNet-50 Predictions: ['person']\n",
      "📌 VGG-16 Predictions: ['person']\n",
      "📌 EfficientNet-B0 Predictions: ['person']\n",
      "\n",
      "🔹 Predicting for image: d:\\DLP Labs\\DLP Lab 5 test images\\2008_007523.jpg\n",
      "\u001b[1m1/1\u001b[0m \u001b[32m━━━━━━━━━━━━━━━━━━━━\u001b[0m\u001b[37m\u001b[0m \u001b[1m0s\u001b[0m 178ms/step\n",
      "\u001b[1m1/1\u001b[0m \u001b[32m━━━━━━━━━━━━━━━━━━━━\u001b[0m\u001b[37m\u001b[0m \u001b[1m0s\u001b[0m 253ms/step\n",
      "\u001b[1m1/1\u001b[0m \u001b[32m━━━━━━━━━━━━━━━━━━━━\u001b[0m\u001b[37m\u001b[0m \u001b[1m0s\u001b[0m 117ms/step\n",
      "📌 ResNet-50 Predictions: ['person']\n",
      "📌 VGG-16 Predictions: ['person']\n",
      "📌 EfficientNet-B0 Predictions: ['person']\n",
      "\n",
      "🔹 Predicting for image: d:\\DLP Labs\\DLP Lab 5 test images\\2008_007898.jpg\n",
      "\u001b[1m1/1\u001b[0m \u001b[32m━━━━━━━━━━━━━━━━━━━━\u001b[0m\u001b[37m\u001b[0m \u001b[1m0s\u001b[0m 200ms/step\n",
      "\u001b[1m1/1\u001b[0m \u001b[32m━━━━━━━━━━━━━━━━━━━━\u001b[0m\u001b[37m\u001b[0m \u001b[1m0s\u001b[0m 228ms/step\n",
      "\u001b[1m1/1\u001b[0m \u001b[32m━━━━━━━━━━━━━━━━━━━━\u001b[0m\u001b[37m\u001b[0m \u001b[1m0s\u001b[0m 125ms/step\n",
      "📌 ResNet-50 Predictions: ['person']\n",
      "📌 VGG-16 Predictions: ['person']\n",
      "📌 EfficientNet-B0 Predictions: ['person']\n",
      "\n",
      "🔹 Predicting for image: d:\\DLP Labs\\DLP Lab 5 test images\\2008_007976.jpg\n",
      "\u001b[1m1/1\u001b[0m \u001b[32m━━━━━━━━━━━━━━━━━━━━\u001b[0m\u001b[37m\u001b[0m \u001b[1m0s\u001b[0m 191ms/step\n",
      "\u001b[1m1/1\u001b[0m \u001b[32m━━━━━━━━━━━━━━━━━━━━\u001b[0m\u001b[37m\u001b[0m \u001b[1m0s\u001b[0m 258ms/step\n",
      "\u001b[1m1/1\u001b[0m \u001b[32m━━━━━━━━━━━━━━━━━━━━\u001b[0m\u001b[37m\u001b[0m \u001b[1m0s\u001b[0m 101ms/step\n",
      "📌 ResNet-50 Predictions: ['person']\n",
      "📌 VGG-16 Predictions: []\n",
      "📌 EfficientNet-B0 Predictions: ['person']\n",
      "\n",
      "🔹 Predicting for image: d:\\DLP Labs\\DLP Lab 5 test images\\2008_008138.jpg\n",
      "\u001b[1m1/1\u001b[0m \u001b[32m━━━━━━━━━━━━━━━━━━━━\u001b[0m\u001b[37m\u001b[0m \u001b[1m0s\u001b[0m 185ms/step\n",
      "\u001b[1m1/1\u001b[0m \u001b[32m━━━━━━━━━━━━━━━━━━━━\u001b[0m\u001b[37m\u001b[0m \u001b[1m0s\u001b[0m 228ms/step\n",
      "\u001b[1m1/1\u001b[0m \u001b[32m━━━━━━━━━━━━━━━━━━━━\u001b[0m\u001b[37m\u001b[0m \u001b[1m0s\u001b[0m 121ms/step\n",
      "📌 ResNet-50 Predictions: []\n",
      "📌 VGG-16 Predictions: ['car']\n",
      "📌 EfficientNet-B0 Predictions: ['person']\n",
      "\n",
      "🔹 Predicting for image: d:\\DLP Labs\\DLP Lab 5 test images\\2008_008202.jpg\n",
      "\u001b[1m1/1\u001b[0m \u001b[32m━━━━━━━━━━━━━━━━━━━━\u001b[0m\u001b[37m\u001b[0m \u001b[1m0s\u001b[0m 184ms/step\n",
      "\u001b[1m1/1\u001b[0m \u001b[32m━━━━━━━━━━━━━━━━━━━━\u001b[0m\u001b[37m\u001b[0m \u001b[1m0s\u001b[0m 271ms/step\n",
      "\u001b[1m1/1\u001b[0m \u001b[32m━━━━━━━━━━━━━━━━━━━━\u001b[0m\u001b[37m\u001b[0m \u001b[1m0s\u001b[0m 90ms/step\n",
      "📌 ResNet-50 Predictions: ['person']\n",
      "📌 VGG-16 Predictions: ['person']\n",
      "📌 EfficientNet-B0 Predictions: ['person']\n",
      "\n",
      "🔹 Predicting for image: d:\\DLP Labs\\DLP Lab 5 test images\\2008_008448.jpg\n",
      "\u001b[1m1/1\u001b[0m \u001b[32m━━━━━━━━━━━━━━━━━━━━\u001b[0m\u001b[37m\u001b[0m \u001b[1m0s\u001b[0m 183ms/step\n",
      "\u001b[1m1/1\u001b[0m \u001b[32m━━━━━━━━━━━━━━━━━━━━\u001b[0m\u001b[37m\u001b[0m \u001b[1m0s\u001b[0m 257ms/step\n",
      "\u001b[1m1/1\u001b[0m \u001b[32m━━━━━━━━━━━━━━━━━━━━\u001b[0m\u001b[37m\u001b[0m \u001b[1m0s\u001b[0m 116ms/step\n",
      "📌 ResNet-50 Predictions: ['person']\n",
      "📌 VGG-16 Predictions: ['chair', 'person', 'tvmonitor']\n",
      "📌 EfficientNet-B0 Predictions: ['person']\n",
      "\n",
      "🔹 Predicting for image: d:\\DLP Labs\\DLP Lab 5 test images\\2008_008504.jpg\n",
      "\u001b[1m1/1\u001b[0m \u001b[32m━━━━━━━━━━━━━━━━━━━━\u001b[0m\u001b[37m\u001b[0m \u001b[1m0s\u001b[0m 181ms/step\n",
      "\u001b[1m1/1\u001b[0m \u001b[32m━━━━━━━━━━━━━━━━━━━━\u001b[0m\u001b[37m\u001b[0m \u001b[1m0s\u001b[0m 250ms/step\n",
      "\u001b[1m1/1\u001b[0m \u001b[32m━━━━━━━━━━━━━━━━━━━━\u001b[0m\u001b[37m\u001b[0m \u001b[1m0s\u001b[0m 117ms/step\n",
      "📌 ResNet-50 Predictions: ['person']\n",
      "📌 VGG-16 Predictions: ['person']\n",
      "📌 EfficientNet-B0 Predictions: ['person']\n",
      "\n",
      "🔹 Predicting for image: d:\\DLP Labs\\DLP Lab 5 test images\\2008_008516.jpg\n",
      "\u001b[1m1/1\u001b[0m \u001b[32m━━━━━━━━━━━━━━━━━━━━\u001b[0m\u001b[37m\u001b[0m \u001b[1m0s\u001b[0m 179ms/step\n",
      "\u001b[1m1/1\u001b[0m \u001b[32m━━━━━━━━━━━━━━━━━━━━\u001b[0m\u001b[37m\u001b[0m \u001b[1m0s\u001b[0m 242ms/step\n",
      "\u001b[1m1/1\u001b[0m \u001b[32m━━━━━━━━━━━━━━━━━━━━\u001b[0m\u001b[37m\u001b[0m \u001b[1m0s\u001b[0m 120ms/step\n",
      "📌 ResNet-50 Predictions: ['person']\n",
      "📌 VGG-16 Predictions: ['aeroplane']\n",
      "📌 EfficientNet-B0 Predictions: ['person']\n",
      "\n",
      "🔹 Predicting for image: d:\\DLP Labs\\DLP Lab 5 test images\\2008_008557.jpg\n",
      "\u001b[1m1/1\u001b[0m \u001b[32m━━━━━━━━━━━━━━━━━━━━\u001b[0m\u001b[37m\u001b[0m \u001b[1m0s\u001b[0m 186ms/step\n",
      "\u001b[1m1/1\u001b[0m \u001b[32m━━━━━━━━━━━━━━━━━━━━\u001b[0m\u001b[37m\u001b[0m \u001b[1m0s\u001b[0m 250ms/step\n",
      "\u001b[1m1/1\u001b[0m \u001b[32m━━━━━━━━━━━━━━━━━━━━\u001b[0m\u001b[37m\u001b[0m \u001b[1m0s\u001b[0m 137ms/step\n",
      "📌 ResNet-50 Predictions: ['person']\n",
      "📌 VGG-16 Predictions: ['person']\n",
      "📌 EfficientNet-B0 Predictions: ['person']\n",
      "\n",
      "🔹 Predicting for image: d:\\DLP Labs\\DLP Lab 5 test images\\2008_008558.jpg\n",
      "\u001b[1m1/1\u001b[0m \u001b[32m━━━━━━━━━━━━━━━━━━━━\u001b[0m\u001b[37m\u001b[0m \u001b[1m0s\u001b[0m 156ms/step\n",
      "\u001b[1m1/1\u001b[0m \u001b[32m━━━━━━━━━━━━━━━━━━━━\u001b[0m\u001b[37m\u001b[0m \u001b[1m0s\u001b[0m 260ms/step\n",
      "\u001b[1m1/1\u001b[0m \u001b[32m━━━━━━━━━━━━━━━━━━━━\u001b[0m\u001b[37m\u001b[0m \u001b[1m0s\u001b[0m 121ms/step\n",
      "📌 ResNet-50 Predictions: ['person']\n",
      "📌 VGG-16 Predictions: []\n",
      "📌 EfficientNet-B0 Predictions: ['person']\n",
      "\n",
      "🔹 Predicting for image: d:\\DLP Labs\\DLP Lab 5 test images\\2008_008605.jpg\n",
      "\u001b[1m1/1\u001b[0m \u001b[32m━━━━━━━━━━━━━━━━━━━━\u001b[0m\u001b[37m\u001b[0m \u001b[1m0s\u001b[0m 163ms/step\n",
      "\u001b[1m1/1\u001b[0m \u001b[32m━━━━━━━━━━━━━━━━━━━━\u001b[0m\u001b[37m\u001b[0m \u001b[1m0s\u001b[0m 216ms/step\n",
      "\u001b[1m1/1\u001b[0m \u001b[32m━━━━━━━━━━━━━━━━━━━━\u001b[0m\u001b[37m\u001b[0m \u001b[1m0s\u001b[0m 129ms/step\n",
      "📌 ResNet-50 Predictions: ['person']\n",
      "📌 VGG-16 Predictions: ['person']\n",
      "📌 EfficientNet-B0 Predictions: ['person']\n",
      "\n",
      "🔹 Predicting for image: d:\\DLP Labs\\DLP Lab 5 test images\\2008_008643.jpg\n",
      "\u001b[1m1/1\u001b[0m \u001b[32m━━━━━━━━━━━━━━━━━━━━\u001b[0m\u001b[37m\u001b[0m \u001b[1m0s\u001b[0m 171ms/step\n",
      "\u001b[1m1/1\u001b[0m \u001b[32m━━━━━━━━━━━━━━━━━━━━\u001b[0m\u001b[37m\u001b[0m \u001b[1m0s\u001b[0m 226ms/step\n",
      "\u001b[1m1/1\u001b[0m \u001b[32m━━━━━━━━━━━━━━━━━━━━\u001b[0m\u001b[37m\u001b[0m \u001b[1m0s\u001b[0m 125ms/step\n",
      "📌 ResNet-50 Predictions: ['person']\n",
      "📌 VGG-16 Predictions: ['car', 'person']\n",
      "📌 EfficientNet-B0 Predictions: ['person']\n",
      "\n",
      "🔹 Predicting for image: d:\\DLP Labs\\DLP Lab 5 test images\\2008_008653.jpg\n",
      "\u001b[1m1/1\u001b[0m \u001b[32m━━━━━━━━━━━━━━━━━━━━\u001b[0m\u001b[37m\u001b[0m \u001b[1m0s\u001b[0m 186ms/step\n",
      "\u001b[1m1/1\u001b[0m \u001b[32m━━━━━━━━━━━━━━━━━━━━\u001b[0m\u001b[37m\u001b[0m \u001b[1m0s\u001b[0m 230ms/step\n",
      "\u001b[1m1/1\u001b[0m \u001b[32m━━━━━━━━━━━━━━━━━━━━\u001b[0m\u001b[37m\u001b[0m \u001b[1m0s\u001b[0m 122ms/step\n",
      "📌 ResNet-50 Predictions: ['person']\n",
      "📌 VGG-16 Predictions: ['person']\n",
      "📌 EfficientNet-B0 Predictions: ['person']\n",
      "\n",
      "🔹 Predicting for image: d:\\DLP Labs\\DLP Lab 5 test images\\2008_008716.jpg\n",
      "\u001b[1m1/1\u001b[0m \u001b[32m━━━━━━━━━━━━━━━━━━━━\u001b[0m\u001b[37m\u001b[0m \u001b[1m0s\u001b[0m 175ms/step\n",
      "\u001b[1m1/1\u001b[0m \u001b[32m━━━━━━━━━━━━━━━━━━━━\u001b[0m\u001b[37m\u001b[0m \u001b[1m0s\u001b[0m 219ms/step\n",
      "\u001b[1m1/1\u001b[0m \u001b[32m━━━━━━━━━━━━━━━━━━━━\u001b[0m\u001b[37m\u001b[0m \u001b[1m0s\u001b[0m 100ms/step\n",
      "📌 ResNet-50 Predictions: ['person']\n",
      "📌 VGG-16 Predictions: []\n",
      "📌 EfficientNet-B0 Predictions: ['person']\n",
      "\n",
      "🔹 Predicting for image: d:\\DLP Labs\\DLP Lab 5 test images\\2008_008743.jpg\n",
      "\u001b[1m1/1\u001b[0m \u001b[32m━━━━━━━━━━━━━━━━━━━━\u001b[0m\u001b[37m\u001b[0m \u001b[1m0s\u001b[0m 169ms/step\n",
      "\u001b[1m1/1\u001b[0m \u001b[32m━━━━━━━━━━━━━━━━━━━━\u001b[0m\u001b[37m\u001b[0m \u001b[1m0s\u001b[0m 227ms/step\n",
      "\u001b[1m1/1\u001b[0m \u001b[32m━━━━━━━━━━━━━━━━━━━━\u001b[0m\u001b[37m\u001b[0m \u001b[1m0s\u001b[0m 133ms/step\n",
      "📌 ResNet-50 Predictions: ['person']\n",
      "📌 VGG-16 Predictions: ['person']\n",
      "📌 EfficientNet-B0 Predictions: ['person']\n"
     ]
    }
   ],
   "source": [
    "# Select images for evaluation\n",
    "selected_test_images = test_image_paths\n",
    "\n",
    "# Make predictions using all three models\n",
    "for image_path in selected_test_images:\n",
    "    print(f\"\\n🔹 Predicting for image: {image_path}\")\n",
    "\n",
    "    # Preprocess the image\n",
    "    image = preprocess_image(image_path)\n",
    "\n",
    "    # Get model predictions\n",
    "    pred_resnet = best_resnet.predict(image)[0]\n",
    "    pred_vgg = best_vgg.predict(image)[0]\n",
    "    pred_efficientnet = best_efficientnet.predict(image)[0]\n",
    "\n",
    "    # Convert predictions to labels (set a threshold of 0.5)\n",
    "    threshold = 0.3\n",
    "    labels_resnet = [CLASSES[i] for i, score in enumerate(pred_resnet) if score > threshold]\n",
    "    labels_vgg = [CLASSES[i] for i, score in enumerate(pred_vgg) if score > threshold]\n",
    "    labels_efficientnet = [CLASSES[i] for i, score in enumerate(pred_efficientnet) if score > threshold]\n",
    "\n",
    "    # Display results\n",
    "    print(f\"📌 ResNet-50 Predictions: {labels_resnet}\")\n",
    "    print(f\"📌 VGG-16 Predictions: {labels_vgg}\")\n",
    "    print(f\"📌 EfficientNet-B0 Predictions: {labels_efficientnet}\")\n"
   ]
  }
 ],
 "metadata": {
  "kernelspec": {
   "display_name": "Python 3",
   "language": "python",
   "name": "python3"
  },
  "language_info": {
   "codemirror_mode": {
    "name": "ipython",
    "version": 3
   },
   "file_extension": ".py",
   "mimetype": "text/x-python",
   "name": "python",
   "nbconvert_exporter": "python",
   "pygments_lexer": "ipython3",
   "version": "3.11.9"
  }
 },
 "nbformat": 4,
 "nbformat_minor": 2
}

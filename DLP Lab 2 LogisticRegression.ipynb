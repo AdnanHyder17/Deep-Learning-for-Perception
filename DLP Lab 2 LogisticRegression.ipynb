{
  "cells": [
    {
      "cell_type": "code",
      "execution_count": 7,
      "metadata": {
        "id": "O0SerRO61eAR"
      },
      "outputs": [],
      "source": [
        "#Importing libraries\n",
        "import numpy as np\n",
        "import pandas as pd\n",
        "import matplotlib.pyplot as plt\n",
        "import seaborn as sns\n",
        "dataframe = pd.read_csv('heart_disease_dataset_UCI.csv')"
      ]
    },
    {
      "cell_type": "markdown",
      "metadata": {
        "id": "1qGNuMiT33Cp"
      },
      "source": [
        "For complete dataset description you can visit this site https://archive.ics.uci.edu/ml/datasets/heart+disease\n"
      ]
    },
    {
      "cell_type": "markdown",
      "metadata": {
        "id": "trtirW7K4KY5"
      },
      "source": [
        "# Data Exploration"
      ]
    },
    {
      "cell_type": "code",
      "execution_count": 8,
      "metadata": {
        "colab": {
          "base_uri": "https://localhost:8080/",
          "height": 363
        },
        "id": "R-2pCDQR3bQ4",
        "outputId": "6903a597-23d1-4247-e068-25a871b1db20"
      },
      "outputs": [
        {
          "data": {
            "text/html": [
              "<div>\n",
              "<style scoped>\n",
              "    .dataframe tbody tr th:only-of-type {\n",
              "        vertical-align: middle;\n",
              "    }\n",
              "\n",
              "    .dataframe tbody tr th {\n",
              "        vertical-align: top;\n",
              "    }\n",
              "\n",
              "    .dataframe thead th {\n",
              "        text-align: right;\n",
              "    }\n",
              "</style>\n",
              "<table border=\"1\" class=\"dataframe\">\n",
              "  <thead>\n",
              "    <tr style=\"text-align: right;\">\n",
              "      <th></th>\n",
              "      <th>age</th>\n",
              "      <th>sex</th>\n",
              "      <th>cp</th>\n",
              "      <th>trestbps</th>\n",
              "      <th>chol</th>\n",
              "      <th>fbs</th>\n",
              "      <th>restecg</th>\n",
              "      <th>thalach</th>\n",
              "      <th>exang</th>\n",
              "      <th>oldpeak</th>\n",
              "      <th>slope</th>\n",
              "      <th>ca</th>\n",
              "      <th>thal</th>\n",
              "      <th>target</th>\n",
              "    </tr>\n",
              "  </thead>\n",
              "  <tbody>\n",
              "    <tr>\n",
              "      <th>0</th>\n",
              "      <td>63</td>\n",
              "      <td>1</td>\n",
              "      <td>3</td>\n",
              "      <td>145</td>\n",
              "      <td>233</td>\n",
              "      <td>1</td>\n",
              "      <td>0</td>\n",
              "      <td>150</td>\n",
              "      <td>0</td>\n",
              "      <td>2.3</td>\n",
              "      <td>0</td>\n",
              "      <td>0</td>\n",
              "      <td>1</td>\n",
              "      <td>1</td>\n",
              "    </tr>\n",
              "    <tr>\n",
              "      <th>1</th>\n",
              "      <td>37</td>\n",
              "      <td>1</td>\n",
              "      <td>2</td>\n",
              "      <td>130</td>\n",
              "      <td>250</td>\n",
              "      <td>0</td>\n",
              "      <td>1</td>\n",
              "      <td>187</td>\n",
              "      <td>0</td>\n",
              "      <td>3.5</td>\n",
              "      <td>0</td>\n",
              "      <td>0</td>\n",
              "      <td>2</td>\n",
              "      <td>1</td>\n",
              "    </tr>\n",
              "    <tr>\n",
              "      <th>2</th>\n",
              "      <td>41</td>\n",
              "      <td>0</td>\n",
              "      <td>1</td>\n",
              "      <td>130</td>\n",
              "      <td>204</td>\n",
              "      <td>0</td>\n",
              "      <td>0</td>\n",
              "      <td>172</td>\n",
              "      <td>0</td>\n",
              "      <td>1.4</td>\n",
              "      <td>2</td>\n",
              "      <td>0</td>\n",
              "      <td>2</td>\n",
              "      <td>1</td>\n",
              "    </tr>\n",
              "    <tr>\n",
              "      <th>3</th>\n",
              "      <td>56</td>\n",
              "      <td>1</td>\n",
              "      <td>1</td>\n",
              "      <td>120</td>\n",
              "      <td>236</td>\n",
              "      <td>0</td>\n",
              "      <td>1</td>\n",
              "      <td>178</td>\n",
              "      <td>0</td>\n",
              "      <td>0.8</td>\n",
              "      <td>2</td>\n",
              "      <td>0</td>\n",
              "      <td>2</td>\n",
              "      <td>1</td>\n",
              "    </tr>\n",
              "    <tr>\n",
              "      <th>4</th>\n",
              "      <td>57</td>\n",
              "      <td>0</td>\n",
              "      <td>0</td>\n",
              "      <td>120</td>\n",
              "      <td>354</td>\n",
              "      <td>0</td>\n",
              "      <td>1</td>\n",
              "      <td>163</td>\n",
              "      <td>1</td>\n",
              "      <td>0.6</td>\n",
              "      <td>2</td>\n",
              "      <td>0</td>\n",
              "      <td>2</td>\n",
              "      <td>1</td>\n",
              "    </tr>\n",
              "    <tr>\n",
              "      <th>5</th>\n",
              "      <td>57</td>\n",
              "      <td>1</td>\n",
              "      <td>0</td>\n",
              "      <td>140</td>\n",
              "      <td>192</td>\n",
              "      <td>0</td>\n",
              "      <td>1</td>\n",
              "      <td>148</td>\n",
              "      <td>0</td>\n",
              "      <td>0.4</td>\n",
              "      <td>1</td>\n",
              "      <td>0</td>\n",
              "      <td>1</td>\n",
              "      <td>1</td>\n",
              "    </tr>\n",
              "    <tr>\n",
              "      <th>6</th>\n",
              "      <td>56</td>\n",
              "      <td>0</td>\n",
              "      <td>1</td>\n",
              "      <td>140</td>\n",
              "      <td>294</td>\n",
              "      <td>0</td>\n",
              "      <td>0</td>\n",
              "      <td>153</td>\n",
              "      <td>0</td>\n",
              "      <td>1.3</td>\n",
              "      <td>1</td>\n",
              "      <td>0</td>\n",
              "      <td>2</td>\n",
              "      <td>1</td>\n",
              "    </tr>\n",
              "    <tr>\n",
              "      <th>7</th>\n",
              "      <td>44</td>\n",
              "      <td>1</td>\n",
              "      <td>1</td>\n",
              "      <td>120</td>\n",
              "      <td>263</td>\n",
              "      <td>0</td>\n",
              "      <td>1</td>\n",
              "      <td>173</td>\n",
              "      <td>0</td>\n",
              "      <td>0.0</td>\n",
              "      <td>2</td>\n",
              "      <td>0</td>\n",
              "      <td>3</td>\n",
              "      <td>1</td>\n",
              "    </tr>\n",
              "    <tr>\n",
              "      <th>8</th>\n",
              "      <td>52</td>\n",
              "      <td>1</td>\n",
              "      <td>2</td>\n",
              "      <td>172</td>\n",
              "      <td>199</td>\n",
              "      <td>1</td>\n",
              "      <td>1</td>\n",
              "      <td>162</td>\n",
              "      <td>0</td>\n",
              "      <td>0.5</td>\n",
              "      <td>2</td>\n",
              "      <td>0</td>\n",
              "      <td>3</td>\n",
              "      <td>1</td>\n",
              "    </tr>\n",
              "    <tr>\n",
              "      <th>9</th>\n",
              "      <td>57</td>\n",
              "      <td>1</td>\n",
              "      <td>2</td>\n",
              "      <td>150</td>\n",
              "      <td>168</td>\n",
              "      <td>0</td>\n",
              "      <td>1</td>\n",
              "      <td>174</td>\n",
              "      <td>0</td>\n",
              "      <td>1.6</td>\n",
              "      <td>2</td>\n",
              "      <td>0</td>\n",
              "      <td>2</td>\n",
              "      <td>1</td>\n",
              "    </tr>\n",
              "  </tbody>\n",
              "</table>\n",
              "</div>"
            ],
            "text/plain": [
              "   age  sex  cp  trestbps  chol  fbs  restecg  thalach  exang  oldpeak  slope  \\\n",
              "0   63    1   3       145   233    1        0      150      0      2.3      0   \n",
              "1   37    1   2       130   250    0        1      187      0      3.5      0   \n",
              "2   41    0   1       130   204    0        0      172      0      1.4      2   \n",
              "3   56    1   1       120   236    0        1      178      0      0.8      2   \n",
              "4   57    0   0       120   354    0        1      163      1      0.6      2   \n",
              "5   57    1   0       140   192    0        1      148      0      0.4      1   \n",
              "6   56    0   1       140   294    0        0      153      0      1.3      1   \n",
              "7   44    1   1       120   263    0        1      173      0      0.0      2   \n",
              "8   52    1   2       172   199    1        1      162      0      0.5      2   \n",
              "9   57    1   2       150   168    0        1      174      0      1.6      2   \n",
              "\n",
              "   ca  thal  target  \n",
              "0   0     1       1  \n",
              "1   0     2       1  \n",
              "2   0     2       1  \n",
              "3   0     2       1  \n",
              "4   0     2       1  \n",
              "5   0     1       1  \n",
              "6   0     2       1  \n",
              "7   0     3       1  \n",
              "8   0     3       1  \n",
              "9   0     2       1  "
            ]
          },
          "execution_count": 8,
          "metadata": {},
          "output_type": "execute_result"
        }
      ],
      "source": [
        "dataframe.head(10)"
      ]
    },
    {
      "cell_type": "code",
      "execution_count": 9,
      "metadata": {
        "colab": {
          "base_uri": "https://localhost:8080/"
        },
        "id": "mUiCFJrr3d4w",
        "outputId": "bcd9ce99-59cd-4c06-d4af-c3837eef0eaa"
      },
      "outputs": [
        {
          "name": "stdout",
          "output_type": "stream",
          "text": [
            "<class 'pandas.core.frame.DataFrame'>\n",
            "RangeIndex: 303 entries, 0 to 302\n",
            "Data columns (total 14 columns):\n",
            " #   Column    Non-Null Count  Dtype  \n",
            "---  ------    --------------  -----  \n",
            " 0   age       303 non-null    int64  \n",
            " 1   sex       303 non-null    int64  \n",
            " 2   cp        303 non-null    int64  \n",
            " 3   trestbps  303 non-null    int64  \n",
            " 4   chol      303 non-null    int64  \n",
            " 5   fbs       303 non-null    int64  \n",
            " 6   restecg   303 non-null    int64  \n",
            " 7   thalach   303 non-null    int64  \n",
            " 8   exang     303 non-null    int64  \n",
            " 9   oldpeak   303 non-null    float64\n",
            " 10  slope     303 non-null    int64  \n",
            " 11  ca        303 non-null    int64  \n",
            " 12  thal      303 non-null    int64  \n",
            " 13  target    303 non-null    int64  \n",
            "dtypes: float64(1), int64(13)\n",
            "memory usage: 33.3 KB\n"
          ]
        }
      ],
      "source": [
        "dataframe.info()"
      ]
    },
    {
      "cell_type": "code",
      "execution_count": 10,
      "metadata": {
        "colab": {
          "base_uri": "https://localhost:8080/"
        },
        "id": "TlPDTL2d2ddk",
        "outputId": "c9e83747-fee0-4d0e-f265-afd6ec1b0e09"
      },
      "outputs": [
        {
          "data": {
            "text/plain": [
              "age         0\n",
              "sex         0\n",
              "cp          0\n",
              "trestbps    0\n",
              "chol        0\n",
              "fbs         0\n",
              "restecg     0\n",
              "thalach     0\n",
              "exang       0\n",
              "oldpeak     0\n",
              "slope       0\n",
              "ca          0\n",
              "thal        0\n",
              "target      0\n",
              "dtype: int64"
            ]
          },
          "execution_count": 10,
          "metadata": {},
          "output_type": "execute_result"
        }
      ],
      "source": [
        "dataframe.isna().sum()"
      ]
    },
    {
      "cell_type": "code",
      "execution_count": 11,
      "metadata": {
        "colab": {
          "base_uri": "https://localhost:8080/",
          "height": 143
        },
        "id": "LHxyN_FK4Sd1",
        "outputId": "8525ebed-b438-4490-c85c-ccc80d8cdf8c"
      },
      "outputs": [
        {
          "data": {
            "text/html": [
              "<div>\n",
              "<style scoped>\n",
              "    .dataframe tbody tr th:only-of-type {\n",
              "        vertical-align: middle;\n",
              "    }\n",
              "\n",
              "    .dataframe tbody tr th {\n",
              "        vertical-align: top;\n",
              "    }\n",
              "\n",
              "    .dataframe thead th {\n",
              "        text-align: right;\n",
              "    }\n",
              "</style>\n",
              "<table border=\"1\" class=\"dataframe\">\n",
              "  <thead>\n",
              "    <tr style=\"text-align: right;\">\n",
              "      <th></th>\n",
              "      <th>age</th>\n",
              "      <th>cp</th>\n",
              "      <th>trestbps</th>\n",
              "      <th>chol</th>\n",
              "      <th>fbs</th>\n",
              "      <th>restecg</th>\n",
              "      <th>thalach</th>\n",
              "      <th>exang</th>\n",
              "      <th>oldpeak</th>\n",
              "      <th>slope</th>\n",
              "      <th>ca</th>\n",
              "      <th>thal</th>\n",
              "      <th>target</th>\n",
              "    </tr>\n",
              "    <tr>\n",
              "      <th>sex</th>\n",
              "      <th></th>\n",
              "      <th></th>\n",
              "      <th></th>\n",
              "      <th></th>\n",
              "      <th></th>\n",
              "      <th></th>\n",
              "      <th></th>\n",
              "      <th></th>\n",
              "      <th></th>\n",
              "      <th></th>\n",
              "      <th></th>\n",
              "      <th></th>\n",
              "      <th></th>\n",
              "    </tr>\n",
              "  </thead>\n",
              "  <tbody>\n",
              "    <tr>\n",
              "      <th>0</th>\n",
              "      <td>55.677083</td>\n",
              "      <td>1.041667</td>\n",
              "      <td>133.083333</td>\n",
              "      <td>261.302083</td>\n",
              "      <td>0.12500</td>\n",
              "      <td>0.572917</td>\n",
              "      <td>151.125000</td>\n",
              "      <td>0.229167</td>\n",
              "      <td>0.876042</td>\n",
              "      <td>1.427083</td>\n",
              "      <td>0.552083</td>\n",
              "      <td>2.125000</td>\n",
              "      <td>0.750000</td>\n",
              "    </tr>\n",
              "    <tr>\n",
              "      <th>1</th>\n",
              "      <td>53.758454</td>\n",
              "      <td>0.932367</td>\n",
              "      <td>130.946860</td>\n",
              "      <td>239.289855</td>\n",
              "      <td>0.15942</td>\n",
              "      <td>0.507246</td>\n",
              "      <td>148.961353</td>\n",
              "      <td>0.371981</td>\n",
              "      <td>1.115459</td>\n",
              "      <td>1.386473</td>\n",
              "      <td>0.811594</td>\n",
              "      <td>2.400966</td>\n",
              "      <td>0.449275</td>\n",
              "    </tr>\n",
              "  </tbody>\n",
              "</table>\n",
              "</div>"
            ],
            "text/plain": [
              "           age        cp    trestbps        chol      fbs   restecg  \\\n",
              "sex                                                                   \n",
              "0    55.677083  1.041667  133.083333  261.302083  0.12500  0.572917   \n",
              "1    53.758454  0.932367  130.946860  239.289855  0.15942  0.507246   \n",
              "\n",
              "        thalach     exang   oldpeak     slope        ca      thal    target  \n",
              "sex                                                                          \n",
              "0    151.125000  0.229167  0.876042  1.427083  0.552083  2.125000  0.750000  \n",
              "1    148.961353  0.371981  1.115459  1.386473  0.811594  2.400966  0.449275  "
            ]
          },
          "execution_count": 11,
          "metadata": {},
          "output_type": "execute_result"
        }
      ],
      "source": [
        "dataframe.groupby('sex').mean()"
      ]
    },
    {
      "cell_type": "markdown",
      "metadata": {
        "id": "GL2auguL4cut"
      },
      "source": [
        "# Data Visualization"
      ]
    },
    {
      "cell_type": "code",
      "execution_count": 12,
      "metadata": {
        "colab": {
          "base_uri": "https://localhost:8080/",
          "height": 1000
        },
        "id": "mmpq-cK14f51",
        "outputId": "8bba50cc-cb3a-4de3-ad43-a57688d42199"
      },
      "outputs": [
        {
          "data": {
            "text/plain": [
              "array([[<Axes: title={'center': 'age'}>, <Axes: title={'center': 'sex'}>,\n",
              "        <Axes: title={'center': 'cp'}>,\n",
              "        <Axes: title={'center': 'trestbps'}>],\n",
              "       [<Axes: title={'center': 'chol'}>,\n",
              "        <Axes: title={'center': 'fbs'}>,\n",
              "        <Axes: title={'center': 'restecg'}>,\n",
              "        <Axes: title={'center': 'thalach'}>],\n",
              "       [<Axes: title={'center': 'exang'}>,\n",
              "        <Axes: title={'center': 'oldpeak'}>,\n",
              "        <Axes: title={'center': 'slope'}>,\n",
              "        <Axes: title={'center': 'ca'}>],\n",
              "       [<Axes: title={'center': 'thal'}>,\n",
              "        <Axes: title={'center': 'target'}>, <Axes: >, <Axes: >]],\n",
              "      dtype=object)"
            ]
          },
          "execution_count": 12,
          "metadata": {},
          "output_type": "execute_result"
        },
        {
          "data": {
            "image/png": "[encoded data removed]",
            "text/plain": [
              "<Figure size 1200x1200 with 16 Axes>"
            ]
          },
          "metadata": {},
          "output_type": "display_data"
        }
      ],
      "source": [
        "dataframe.hist(figsize=(12,12))"
      ]
    },
    {
      "cell_type": "markdown",
      "metadata": {
        "id": "qvxBFIRH5GJF"
      },
      "source": [
        "# Data Pre Processing"
      ]
    },
    {
      "cell_type": "code",
      "execution_count": 13,
      "metadata": {
        "id": "KGDDK-v444bR"
      },
      "outputs": [],
      "source": [
        "X = dataframe.iloc[:,0:13]\n",
        "y = dataframe.iloc[:,13]\n",
        "X = X.values\n",
        "y = y.values\n",
        "from sklearn.preprocessing import StandardScaler\n",
        "X_std=StandardScaler().fit_transform(X)"
      ]
    },
    {
      "cell_type": "code",
      "execution_count": 14,
      "metadata": {
        "id": "f4fayUzX5OfN"
      },
      "outputs": [],
      "source": [
        "from sklearn.model_selection import train_test_split\n",
        "X_train,X_test,y_train,y_test=train_test_split(X_std,y,test_size=0.25,random_state=40)"
      ]
    },
    {
      "cell_type": "markdown",
      "metadata": {
        "id": "XjVVHS_t5Ssu"
      },
      "source": [
        "# Model Prediction"
      ]
    },
    {
      "cell_type": "code",
      "execution_count": 15,
      "metadata": {
        "id": "VTUQ_S4n5VSF"
      },
      "outputs": [],
      "source": [
        "from sklearn.linear_model import LogisticRegression\n",
        "from sklearn.metrics import confusion_matrix\n",
        "lr=LogisticRegression(C=1.0,class_weight='balanced',max_iter=100,penalty='l2',random_state=1234,solver='lbfgs',tol=0.0001)\n",
        "# https://scikit-learn.org/stable/modules/generated/sklearn.linear_model.LogisticRegression.html\n"
      ]
    },
    {
      "cell_type": "code",
      "execution_count": 16,
      "metadata": {
        "colab": {
          "base_uri": "https://localhost:8080/"
        },
        "id": "CWIikWkj5fRx",
        "outputId": "5a5b9429-49b3-4d89-e74f-6ae39b8b155f"
      },
      "outputs": [
        {
          "data": {
            "text/plain": [
              "0.8458149779735683"
            ]
          },
          "execution_count": 16,
          "metadata": {},
          "output_type": "execute_result"
        }
      ],
      "source": [
        "model1=lr.fit(X_train,y_train)\n",
        "model1.score(X_train, y_train)\n"
      ]
    },
    {
      "cell_type": "code",
      "execution_count": 17,
      "metadata": {
        "id": "72NKOOgV6CXa"
      },
      "outputs": [],
      "source": [
        "prediction1=model1.predict(X_test)"
      ]
    },
    {
      "cell_type": "code",
      "execution_count": 18,
      "metadata": {
        "colab": {
          "base_uri": "https://localhost:8080/",
          "height": 447
        },
        "id": "S0JsB3v75lP-",
        "outputId": "a58120fd-4634-4372-a981-bc1736cfedff"
      },
      "outputs": [
        {
          "data": {
            "text/plain": [
              "<Axes: >"
            ]
          },
          "execution_count": 18,
          "metadata": {},
          "output_type": "execute_result"
        },
        {
          "data": {
            "image/png": "[encoded data removed]",
            "text/plain": [
              "<Figure size 640x480 with 2 Axes>"
            ]
          },
          "metadata": {},
          "output_type": "display_data"
        }
      ],
      "source": [
        "# Confusion Matrix\n",
        "cm=confusion_matrix(y_test,prediction1)\n",
        "sns.heatmap(cm,annot=True,cmap='winter',linewidths=0.3,\n",
        "linecolor='black',annot_kws={\"size\":20})"
      ]
    },
    {
      "cell_type": "code",
      "execution_count": 19,
      "metadata": {
        "colab": {
          "base_uri": "https://localhost:8080/"
        },
        "id": "oHKuqbZR5pXs",
        "outputId": "f85228e0-97a9-4349-dddc-e54db275b80a"
      },
      "outputs": [
        {
          "name": "stdout",
          "output_type": "stream",
          "text": [
            "Testing Accuracy for Logistic Regression: 0.8947368421052632\n",
            "Testing Sensitivity for logistic Regression: 0.8823529411764706\n",
            "Testing Specificity for Logistic Regression: 0.9047619047619048\n",
            "Testing Precision for Logistic Regression 0.8823529411764706\n"
          ]
        }
      ],
      "source": [
        "TP=cm[0][0]\n",
        "TN=cm[1][1]\n",
        "FN=cm[1][0]\n",
        "FP=cm[0][1]\n",
        "print('Testing Accuracy for Logistic Regression:',(TP+TN)/(TP+TN+FN+FP))\n",
        "print('Testing Sensitivity for logistic Regression:',(TP/(TP+FN)))\n",
        "print('Testing Specificity for Logistic Regression:',(TN/(TN+FP)))\n",
        "print('Testing Precision for Logistic Regression',(TP/(TP+FP)))"
      ]
    },
    {
      "cell_type": "markdown",
      "metadata": {
        "id": "SL6XVrT5dFKV"
      },
      "source": [
        "**Precision** basically tells us that out of the results classified as positive by our model, how many were actually positive.\n",
        "\n",
        "**Recall/ Sensitivity** tells us how many true positives (points labelled as positive) were recalled or found by our model."
      ]
    },
    {
      "cell_type": "markdown",
      "metadata": {
        "id": "XUtmGu7G52FD"
      },
      "source": [
        "# References\n",
        "https://www.analyticsvidhya.com/blog/2022/03/logistic-regression-on-uci-dataset/\n",
        "\n",
        "\n",
        "https://www.kaggle.com/code/arviinndn/heart-disease-prediction-uci-dataset/notebook\n"
      ]
    },
    {
      "cell_type": "markdown",
      "metadata": {},
      "source": [
        "**Lab Tasks:**\n",
        "1. Use HeartDisease dataset and apply LinearRegression and then pass the result to\n",
        "sigmoid function (write from scratch) and then compare the accuracy of both models.\n",
        "\n",
        "2. Calculate binary cross entropy loss on the above experiment. Write from scratch.\n",
        "\n",
        "3. Download a new dataset from UCI Repository https://archive.ics.uci.edu/ml/datasets.php\n",
        "and evaluate its accuracy on 5 cross fold.\n",
        "\n",
        "4. Consider a logistic regression model with w1=0.5 and w2=0.31 and b=0.09. X1 = 5, X2\n",
        "= 3 and actual y is 1. Calculate this numerical by hand and verify your answers by\n",
        "coding the functions below.\n",
        "Write below functions from scratch:\n",
        "● ForwardPropagation()\n",
        "● LossCalculation()\n",
        "● BackwardPropagation() # This function must update the old weights\n",
        "● MainLoop which must iterate 5 times and call all the above functions."
      ]
    },
    {
      "cell_type": "code",
      "execution_count": 32,
      "metadata": {},
      "outputs": [],
      "source": [
        "# Load dataset\n",
        "data = pd.read_csv('heart_disease_dataset_UCI.csv')\n",
        "X = data.drop(columns=['target'])  # Assuming 'target' is the column to predict\n",
        "y = data['target']"
      ]
    },
    {
      "cell_type": "code",
      "execution_count": 33,
      "metadata": {},
      "outputs": [],
      "source": [
        "from sklearn.preprocessing import StandardScaler\n",
        "\n",
        "# Standardize features\n",
        "scaler = StandardScaler()\n",
        "X = scaler.fit_transform(X)"
      ]
    },
    {
      "cell_type": "markdown",
      "metadata": {},
      "source": [
        "**Task#1**"
      ]
    },
    {
      "cell_type": "code",
      "execution_count": 34,
      "metadata": {},
      "outputs": [],
      "source": [
        "X_train, X_test, Y_train, Y_test = train_test_split(X, y, test_size = 0.2, random_state = 2)"
      ]
    },
    {
      "cell_type": "code",
      "execution_count": 35,
      "metadata": {},
      "outputs": [],
      "source": [
        "from sklearn.linear_model import LinearRegression, LogisticRegression\n",
        "\n",
        "linear_model = LinearRegression()\n",
        "linear_model.fit(X_train, Y_train)\n",
        "y_pred_train_linear = linear_model.predict(X_test)"
      ]
    },
    {
      "cell_type": "code",
      "execution_count": 36,
      "metadata": {},
      "outputs": [
        {
          "name": "stdout",
          "output_type": "stream",
          "text": [
            "Accuracy of Linear Regression with Sigmoid: 0.5738\n"
          ]
        }
      ],
      "source": [
        "#sigmoid function\n",
        "def sigmoid(x):\n",
        "  return 1/(1+np.exp(-x))\n",
        "\n",
        "\n",
        "from sklearn.metrics import accuracy_score\n",
        "\n",
        "y_pred_sigmoid = sigmoid(y_pred_train_linear)\n",
        "y_pred_binary = (y_pred_sigmoid >= 0.5).astype(int)\n",
        "\n",
        "accuracy_linear_sigmoid = accuracy_score(Y_test, y_pred_binary)\n",
        "print(f'Accuracy of Linear Regression with Sigmoid: {accuracy_linear_sigmoid:.4f}')\n"
      ]
    },
    {
      "cell_type": "code",
      "execution_count": 37,
      "metadata": {},
      "outputs": [
        {
          "name": "stdout",
          "output_type": "stream",
          "text": [
            "Accuracy of Logistic Regression: 0.8689\n"
          ]
        }
      ],
      "source": [
        "LogisticModel = LogisticRegression(max_iter=500, solver='saga')\n",
        "LogisticModel.fit(X_train, Y_train)\n",
        "y_pred_test_logistic = LogisticModel.predict(X_test)\n",
        "\n",
        "\n",
        "accuracy_logistic = accuracy_score(Y_test, y_pred_test_logistic)\n",
        "print(f'Accuracy of Logistic Regression: {accuracy_logistic:.4f}')"
      ]
    },
    {
      "cell_type": "code",
      "execution_count": 38,
      "metadata": {},
      "outputs": [
        {
          "name": "stdout",
          "output_type": "stream",
          "text": [
            "Accuracy Difference: 0.2951\n"
          ]
        }
      ],
      "source": [
        "# Compare results\n",
        "print(f'Accuracy Difference: {accuracy_logistic - accuracy_linear_sigmoid:.4f}')"
      ]
    },
    {
      "cell_type": "markdown",
      "metadata": {},
      "source": [
        "**Task#2**"
      ]
    },
    {
      "cell_type": "code",
      "execution_count": 39,
      "metadata": {},
      "outputs": [
        {
          "name": "stdout",
          "output_type": "stream",
          "text": [
            "Binary Cross-Entropy Loss (Linear Regression + Sigmoid): 0.6067\n",
            "Binary Cross-Entropy Loss (Logistic Regression): 0.2897\n"
          ]
        }
      ],
      "source": [
        "def binary_cross_entropy(y, y_pred):\n",
        "  epsilon = 1e-15\n",
        "  y_pred = np.clip(y_pred, epsilon, 1-epsilon)\n",
        "  return -np.mean(y*np.log(y_pred) + (1-y)*np.log(1-y_pred))\n",
        "\n",
        "\n",
        "bce_loss_linear = binary_cross_entropy(Y_test, y_pred_sigmoid)\n",
        "print(f'Binary Cross-Entropy Loss (Linear Regression + Sigmoid): {bce_loss_linear:.4f}')\n",
        "\n",
        "bce_loss_logistic = binary_cross_entropy(Y_test, LogisticModel.predict_proba(X_test)[:, 1])\n",
        "print(f'Binary Cross-Entropy Loss (Logistic Regression): {bce_loss_logistic:.4f}')"
      ]
    },
    {
      "cell_type": "markdown",
      "metadata": {},
      "source": [
        "**Task#3**"
      ]
    },
    {
      "cell_type": "code",
      "execution_count": 41,
      "metadata": {},
      "outputs": [],
      "source": [
        "from ucimlrepo import fetch_ucirepo\n",
        "\n",
        "# fetch dataset\n",
        "wine_quality = fetch_ucirepo(id=186)\n",
        "\n",
        "# data (as pandas dataframes)\n",
        "X = wine_quality.data.features\n",
        "y = wine_quality.data.targets\n",
        "\n",
        "\n"
      ]
    },
    {
      "cell_type": "code",
      "execution_count": 42,
      "metadata": {},
      "outputs": [],
      "source": [
        "# Standardize features\n",
        "scaler = StandardScaler()\n",
        "X = scaler.fit_transform(X)"
      ]
    },
    {
      "cell_type": "code",
      "execution_count": 44,
      "metadata": {},
      "outputs": [
        {
          "name": "stdout",
          "output_type": "stream",
          "text": [
            "Fold 1: Mean Squared Error on Validation Set: 0.5506450248567712\n",
            "Fold 2: Mean Squared Error on Validation Set: 0.6053534395174003\n",
            "Fold 3: Mean Squared Error on Validation Set: 0.5527447033503023\n",
            "Fold 4: Mean Squared Error on Validation Set: 0.5049041294861533\n",
            "Fold 5: Mean Squared Error on Validation Set: 0.523273406168213\n",
            "\n",
            "Cross-validation scores: [0.5506450248567712, 0.6053534395174003, 0.5527447033503023, 0.5049041294861533, 0.523273406168213]\n",
            "Average MSE: 0.5474\n",
            "\n",
            "Mean Squared Error on Test Set: 0.5336959214985676\n"
          ]
        }
      ],
      "source": [
        "from sklearn.model_selection import KFold\n",
        "from sklearn.metrics import mean_squared_error\n",
        "\n",
        "X_train, X_test, y_train, y_test = train_test_split(X, y, test_size=0.3, random_state=42)\n",
        "\n",
        "num_folds = 5\n",
        "kf = KFold(n_splits=num_folds, shuffle=True, random_state=42)\n",
        "model = LinearRegression()\n",
        "\n",
        "cv_scores = []\n",
        "\n",
        "\n",
        "for fold, (train_index, val_index) in enumerate(kf.split(X_train, y_train)):\n",
        "    X_train_fold, X_val_fold = X_train[train_index], X_train[val_index]\n",
        "    y_train_fold, y_val_fold = y_train.iloc[train_index], y_train.iloc[val_index]\n",
        "\n",
        "    model.fit(X_train_fold, y_train_fold)\n",
        "    y_val_pred_fold = model.predict(X_val_fold)\n",
        "\n",
        "    mse_fold = mean_squared_error(y_val_fold, y_val_pred_fold)\n",
        "    cv_scores.append(mse_fold)\n",
        "    print(f\"Fold {fold + 1}: Mean Squared Error on Validation Set: {mse_fold}\")\n",
        "\n",
        "print(f'\\nCross-validation scores: {cv_scores}')\n",
        "print(f'Average MSE: {np.mean(cv_scores):.4f}')\n",
        "\n",
        "\n",
        "y_test_pred = model.predict(X_test)\n",
        "mse_test = mean_squared_error(y_test, y_test_pred)\n",
        "print(f\"\\nMean Squared Error on Test Set: {mse_test}\")\n"
      ]
    },
    {
      "cell_type": "markdown",
      "metadata": {},
      "source": [
        "**Task#4**"
      ]
    },
    {
      "cell_type": "code",
      "execution_count": 45,
      "metadata": {},
      "outputs": [],
      "source": [
        "def ForwardPropagation(X1, X2, w1, w2, b):\n",
        "    z = (w1 * X1) + (w2 * X2) + b\n",
        "    a = sigmoid(z)\n",
        "    return a\n",
        "\n",
        "\n",
        "\n",
        "def BackwardPropagation(X1, X2, a, y, w1, w2, b, learning_rate=0.1):\n",
        "    dz = a - y  # Gradient of loss w.r.t. activation\n",
        "    dw1 = dz * X1\n",
        "    dw2 = dz * X2\n",
        "    db = dz\n",
        "\n",
        "    # Update weights\n",
        "    w1 -= learning_rate * dw1\n",
        "    w2 -= learning_rate * dw2\n",
        "    b -= learning_rate * db\n",
        "\n",
        "    return w1, w2, b\n",
        "\n",
        "\n",
        "\n",
        "def LossCalculation(a, y):\n",
        "    loss = - (y * np.log(a) + (1 - y) * np.log(1 - a))\n",
        "    return loss\n",
        "\n",
        "\n",
        "\n",
        "def MainLoop(X1, X2, y, w1, w2, b, loops=5):\n",
        "    for i in range(loops):\n",
        "        print(f'Iteration {i+1}:')\n",
        "        a = ForwardPropagation(X1, X2, w1, w2, b)\n",
        "        loss = LossCalculation(a, y)\n",
        "        print(f'Prediction: {a:.4f}, Loss: {loss:.4f}')\n",
        "        w1, w2, b = BackwardPropagation(X1, X2, a, y, w1, w2, b)\n",
        "        print(f'Updated Weights -> w1: {w1:.4f}, w2: {w2:.4f}, b: {b:.4f}\\n')\n"
      ]
    },
    {
      "cell_type": "code",
      "execution_count": 46,
      "metadata": {},
      "outputs": [
        {
          "name": "stdout",
          "output_type": "stream",
          "text": [
            "Iteration 1:\n",
            "Prediction: 0.9713, Loss: 0.0292\n",
            "Updated Weights -> w1: 0.5144, w2: 0.3186, b: 0.0929\n",
            "\n",
            "Iteration 2:\n",
            "Prediction: 0.9739, Loss: 0.0264\n",
            "Updated Weights -> w1: 0.5274, w2: 0.3264, b: 0.0955\n",
            "\n",
            "Iteration 3:\n",
            "Prediction: 0.9762, Loss: 0.0241\n",
            "Updated Weights -> w1: 0.5393, w2: 0.3336, b: 0.0979\n",
            "\n",
            "Iteration 4:\n",
            "Prediction: 0.9780, Loss: 0.0222\n",
            "Updated Weights -> w1: 0.5503, w2: 0.3402, b: 0.1001\n",
            "\n",
            "Iteration 5:\n",
            "Prediction: 0.9796, Loss: 0.0206\n",
            "Updated Weights -> w1: 0.5605, w2: 0.3463, b: 0.1021\n",
            "\n"
          ]
        }
      ],
      "source": [
        "# Initialize variables\n",
        "w1, w2, b = 0.5, 0.31, 0.09\n",
        "X1, X2, y = 5, 3, 1\n",
        "\n",
        "# Run training loop\n",
        "MainLoop(X1, X2, y, w1, w2, b)"
      ]
    }
  ],
  "metadata": {
    "colab": {
      "provenance": []
    },
    "kernelspec": {
      "display_name": "Python 3",
      "name": "python3"
    },
    "language_info": {
      "codemirror_mode": {
        "name": "ipython",
        "version": 3
      },
      "file_extension": ".py",
      "mimetype": "text/x-python",
      "name": "python",
      "nbconvert_exporter": "python",
      "pygments_lexer": "ipython3",
      "version": "3.11.9"
    }
  },
  "nbformat": 4,
  "nbformat_minor": 0
}
